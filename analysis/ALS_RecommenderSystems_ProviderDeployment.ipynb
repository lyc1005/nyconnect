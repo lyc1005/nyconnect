{
 "cells": [
  {
   "cell_type": "code",
   "execution_count": 3,
   "metadata": {},
   "outputs": [],
   "source": [
    "import sys\n",
    "import pandas as pd\n",
    "import numpy as np\n",
    "import scipy.sparse as sparse\n",
    "from scipy.sparse.linalg import spsolve\n",
    "import random\n",
    "import os\n",
    "from sklearn.preprocessing import MinMaxScaler\n",
    "\n",
    "import implicit\n",
    "\n",
    "# Adjust directory accordingly\n",
    "os.chdir('C:\\\\Users\\\\wesch\\\\OneDrive\\\\20 Spring Summer Urban Science Intensive\\\\nyconnect\\\\data')"
   ]
  },
  {
   "cell_type": "code",
   "execution_count": 15,
   "metadata": {},
   "outputs": [],
   "source": [
    "# FCC data cleaning\n",
    "# 2-digit code indicating the Technology of Transmission used to offer broadband service. \n",
    "def tech_code_translator(x):\n",
    "    # ADSL, Cable, Fiber, Fixed Wireless, Satellite, Other\n",
    "    if x in ['10', '11', '12', '20', '30']:\n",
    "        return 'ADSL'\n",
    "    if x in ['40', '41', '42', '43']:\n",
    "        return 'Cable'\n",
    "    if x == '50':\n",
    "        return 'Fiber'\n",
    "    if x == '60':\n",
    "        return 'Satellite'\n",
    "    if x == '70':\n",
    "        return 'Fixed Wireless'\n",
    "    return 'Other'\n",
    "converters = {'tract': lambda x: str(x), \n",
    "              'block': lambda x: str(x),\n",
    "              'Technology Code': lambda x: tech_code_translator(x)\n",
    "             }\n",
    "\n",
    "fcc477 = pd.read_csv(\"Fixed_Broadband_Deployment_Data__Jun__2019_Status_V1.csv\", converters = converters, encoding = \"ISO-8859-1\")\n",
    "fcc477.rename(columns={'Census Block FIPS Code':'FIPS Code'}, inplace=True)\n",
    "# get FIPS 11: state + county + tract\n",
    "fcc477[\"FIPS Code\"] = fcc477[\"FIPS Code\"].astype(str)\n",
    "fcc477[\"FIPS_11\"] = fcc477[\"FIPS Code\"].str[:11]\n",
    "# filter for unique providers in each tract that provide broadband service\n",
    "fcc477_broadband = fcc477[(fcc477[\"Max Advertised Downstream Speed (mbps)\"]>=25.0)&(fcc477[\"Max Advertised Upstream Speed (mbps)\"]>=3.0)]"
   ]
  },
  {
   "cell_type": "code",
   "execution_count": 19,
   "metadata": {},
   "outputs": [],
   "source": [
    "# select only relevant columns\n",
    "# convert column types\n",
    "fcc477_broadband_narrow = fcc477_broadband.loc[:, [\"FIPS Code\", \"Provider ID\", \"Max Advertised Downstream Speed (mbps)\"]]\n",
    "fcc477_broadband_narrow.columns = [\"fips\", \"isp\", \"speed\"]\n",
    "fcc477_broadband_narrow[\"fips\"] = fcc477_broadband_narrow[\"fips\"].astype(\"category\")\n",
    "fcc477_broadband_narrow[\"fips_id\"] = fcc477_broadband_narrow[\"fips\"].cat.codes"
   ]
  },
  {
   "cell_type": "code",
   "execution_count": 20,
   "metadata": {},
   "outputs": [],
   "source": [
    "# The implicit library expects data as a item-user matrix so we\n",
    "# create two matricies, one for fitting the model (item-user) \n",
    "# and one for recommendations (user-item)\n",
    "sparse_item_user = sparse.csr_matrix((fcc477_broadband_narrow['speed'].astype(float), (fcc477_broadband_narrow['fips_id'], fcc477_broadband_narrow['isp'])))\n",
    "sparse_user_item = sparse.csr_matrix((fcc477_broadband_narrow['speed'].astype(float), (fcc477_broadband_narrow['isp'], fcc477_broadband_narrow['fips_id'])))"
   ]
  },
  {
   "cell_type": "code",
   "execution_count": 21,
   "metadata": {},
   "outputs": [
    {
     "name": "stderr",
     "output_type": "stream",
     "text": [
      "WARNING:root:OpenBLAS detected. Its highly recommend to set the environment variable 'export OPENBLAS_NUM_THREADS=1' to disable its internal multithreading\n"
     ]
    },
    {
     "data": {
      "application/vnd.jupyter.widget-view+json": {
       "model_id": "3a72251156534a38b2bb53fbe3f44375",
       "version_major": 2,
       "version_minor": 0
      },
      "text/plain": [
       "HBox(children=(FloatProgress(value=0.0, max=20.0), HTML(value='')))"
      ]
     },
     "metadata": {},
     "output_type": "display_data"
    },
    {
     "name": "stdout",
     "output_type": "stream",
     "text": [
      "\n"
     ]
    }
   ],
   "source": [
    "# Initialize the als model and fit it using the sparse item-user matrix\n",
    "model = implicit.als.AlternatingLeastSquares(factors=20, regularization=0.1, iterations=20)\n",
    "\n",
    "# Calculate the confidence by multiplying it by our alpha value.\n",
    "alpha_val = 15\n",
    "data_conf = (sparse_item_user * alpha_val).astype('double')\n",
    "\n",
    "# Fit the model\n",
    "model.fit(data_conf)"
   ]
  },
  {
   "cell_type": "code",
   "execution_count": 24,
   "metadata": {},
   "outputs": [
    {
     "name": "stdout",
     "output_type": "stream",
     "text": [
      "360050002000001\n",
      "360471078001002\n",
      "360470374024002\n",
      "360050310001011\n",
      "360050386001003\n",
      "360471104002008\n",
      "360050078001004\n",
      "360470594012003\n",
      "360050151001003\n",
      "360050462022008\n"
     ]
    }
   ],
   "source": [
    "#---------------------\n",
    "# FIND SIMILAR ITEMS\n",
    "#---------------------\n",
    "\n",
    "# Find the 10 most similar to a random block in the Bronx\n",
    "item_id = 27 \n",
    "n_similar = 10\n",
    "\n",
    "# Get the user and item vectors from our trained model\n",
    "user_vecs = model.user_factors\n",
    "item_vecs = model.item_factors\n",
    "\n",
    "# Calculate the vector norms\n",
    "item_norms = np.sqrt((item_vecs * item_vecs).sum(axis=1))\n",
    "\n",
    "# Calculate the similarity score, grab the top N items and\n",
    "# create a list of item-score tuples of most similar artists\n",
    "scores = item_vecs.dot(item_vecs[item_id]) / item_norms\n",
    "top_idx = np.argpartition(scores, -n_similar)[-n_similar:]\n",
    "similar = sorted(zip(top_idx, scores[top_idx] / item_norms[item_id]), key=lambda x: -x[1])\n",
    "\n",
    "# Print the names of our most similar census blocks\n",
    "for item in similar:\n",
    "    idx, score = item\n",
    "    print (fcc477_broadband_narrow.fips.loc[fcc477_broadband_narrow.fips_id == idx].iloc[0])"
   ]
  },
  {
   "cell_type": "code",
   "execution_count": 25,
   "metadata": {},
   "outputs": [
    {
     "name": "stdout",
     "output_type": "stream",
     "text": [
      "     census_blocks     score\n",
      "0  360470013002000  1.000000\n",
      "1  360810171001020  0.898521\n",
      "2  360810199002028  0.817265\n",
      "3  360610048005000  0.788376\n",
      "4  360470059002005  0.776867\n",
      "5  360610031001021  0.776058\n",
      "6  360810039001007  0.771240\n",
      "7  360470051003006  0.755547\n",
      "8  360470531002001  0.745918\n",
      "9  360610115002008  0.745808\n"
     ]
    }
   ],
   "source": [
    "#------------------------------\n",
    "# CREATE USER RECOMMENDATIONS\n",
    "#------------------------------\n",
    "\n",
    "def recommend(user_id, sparse_user_item, user_vecs, item_vecs, num_items=10):\n",
    "    \"\"\"The same recommendation function we used before\"\"\"\n",
    "\n",
    "    user_interactions = sparse_user_item[user_id,:].toarray()\n",
    "\n",
    "    user_interactions = user_interactions.reshape(-1) + 1\n",
    "    user_interactions[user_interactions > 1] = 0\n",
    "\n",
    "    rec_vector = user_vecs[user_id,:].dot(item_vecs.T).toarray()\n",
    "\n",
    "    min_max = MinMaxScaler()\n",
    "    rec_vector_scaled = min_max.fit_transform(rec_vector.reshape(-1,1))[:,0]\n",
    "    recommend_vector = user_interactions * rec_vector_scaled\n",
    "\n",
    "    item_idx = np.argsort(recommend_vector)[::-1][:num_items]\n",
    "\n",
    "    census_blocks = []\n",
    "    scores = []\n",
    "\n",
    "    for idx in item_idx:\n",
    "        census_blocks.append(fcc477_broadband_narrow.fips.loc[fcc477_broadband_narrow.fips_id == idx].iloc[0])\n",
    "        scores.append(recommend_vector[idx])\n",
    "\n",
    "    recommendations = pd.DataFrame({'census_blocks': census_blocks, 'score': scores})\n",
    "\n",
    "    return recommendations\n",
    "\n",
    "# Get the trained user and item vectors. We convert them to \n",
    "# csr matrices to work with our previous recommend function.\n",
    "user_vecs = sparse.csr_matrix(model.user_factors)\n",
    "item_vecs = sparse.csr_matrix(model.item_factors)\n",
    "\n",
    "# Create recommendations for isp with id 52332 aka Verizon\n",
    "user_id = 52332\n",
    "\n",
    "recommendations = recommend(user_id, sparse_user_item, user_vecs, item_vecs)\n",
    "\n",
    "print (recommendations)"
   ]
  },
  {
   "cell_type": "code",
   "execution_count": null,
   "metadata": {},
   "outputs": [],
   "source": [
    "# prepare for merging\n",
    "fcc477_broadband_grouped = fcc477_broadband.groupby([\"FIPS_11\", \"boro\"]).agg(\n",
    "    num_providers = pd.NamedAgg(column = \"Provider Name\", aggfunc = lambda x: len(x.unique())))\n",
    "fcc477_broadband_grouped.reset_index(inplace=True)\n",
    "fcc477_broadband_grouped[\"ct2010\"] = fcc477_broadband_grouped[\"FIPS_11\"].str[5:]\n",
    "fcc477_broadband_grouped[\"boro\"] = fcc477_broadband_grouped[\"boro\"].replace({\"bronx\": \"Bronx\",\n",
    "                                                                    \"brooklyn\": \"Brooklyn\",\n",
    "                                                                    \"manhattan\": \"Manhattan\",\n",
    "                                                                    \"staten island\": \"Staten Island\",\n",
    "                                                                    \"queens\": \"Queens\"})\n",
    "# merge\n",
    "fcc477_broadband_grouped_merged = fcc477_broadband_grouped.merge(census_tracts.loc[:,[\"boro_name\", \"ct2010\", \"ctlabel\"]], right_on = [\"ct2010\", \"boro_name\"], left_on = [\"ct2010\", \"boro\"])\n",
    "# new common column\n",
    "fcc477_broadband_grouped_merged[\"BoroCTLbl\"] = fcc477_broadband_grouped_merged[\"boro_name\"] + \" \" + fcc477_broadband_grouped_merged[\"ctlabel\"].astype(str)\n",
    "# select only for those columns\n",
    "fcc477_broadband_grouped_merged = fcc477_broadband_grouped_merged[[\"BoroCTLbl\", \"num_providers\"]]"
   ]
  }
 ],
 "metadata": {
  "kernelspec": {
   "display_name": "Python 3 (Spyder)",
   "language": "python3",
   "name": "python3"
  },
  "language_info": {
   "codemirror_mode": {
    "name": "ipython",
    "version": 3
   },
   "file_extension": ".py",
   "mimetype": "text/x-python",
   "name": "python",
   "nbconvert_exporter": "python",
   "pygments_lexer": "ipython3",
   "version": "3.7.6"
  },
  "varInspector": {
   "cols": {
    "lenName": 16,
    "lenType": 16,
    "lenVar": 40
   },
   "kernels_config": {
    "python": {
     "delete_cmd_postfix": "",
     "delete_cmd_prefix": "del ",
     "library": "var_list.py",
     "varRefreshCmd": "print(var_dic_list())"
    },
    "r": {
     "delete_cmd_postfix": ") ",
     "delete_cmd_prefix": "rm(",
     "library": "var_list.r",
     "varRefreshCmd": "cat(var_dic_list()) "
    }
   },
   "types_to_exclude": [
    "module",
    "function",
    "builtin_function_or_method",
    "instance",
    "_Feature"
   ],
   "window_display": false
  }
 },
 "nbformat": 4,
 "nbformat_minor": 4
}
