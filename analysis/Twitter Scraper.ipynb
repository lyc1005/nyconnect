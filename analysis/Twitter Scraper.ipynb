{
 "cells": [
  {
   "cell_type": "code",
   "execution_count": 1,
   "metadata": {},
   "outputs": [],
   "source": [
    "import twint"
   ]
  },
  {
   "cell_type": "code",
   "execution_count": 33,
   "metadata": {},
   "outputs": [],
   "source": [
    "import nest_asyncio\n",
    "nest_asyncio.apply()"
   ]
  },
  {
   "cell_type": "code",
   "execution_count": 23,
   "metadata": {},
   "outputs": [
    {
     "data": {
      "text/plain": [
       "['Data',\n",
       " 'Network',\n",
       " 'Broadband',\n",
       " 'Mobile',\n",
       " '5G',\n",
       " '4G',\n",
       " '3G',\n",
       " '2G',\n",
       " 'Cable',\n",
       " 'Cellular',\n",
       " 'Internet',\n",
       " 'Roaming',\n",
       " 'Spectrum',\n",
       " 'Throttling',\n",
       " 'Hotspot',\n",
       " 'Wifi',\n",
       " 'Wi-fi',\n",
       " 'LTE',\n",
       " 'Dial',\n",
       " 'Bandwidth',\n",
       " 'Fiber',\n",
       " 'Latency',\n",
       " 'Carrier',\n",
       " 'GB',\n",
       " 'Gbps',\n",
       " 'MB',\n",
       " 'Mbps',\n",
       " 'Modem',\n",
       " 'Router',\n",
       " 'Unlimited']"
      ]
     },
     "execution_count": 23,
     "metadata": {},
     "output_type": "execute_result"
    }
   ],
   "source": [
    "with open('Words.txt') as file:\n",
    "    w = file.read()\n",
    "    words = w.split('\\n')\n",
    "words"
   ]
  },
  {
   "cell_type": "code",
   "execution_count": 26,
   "metadata": {},
   "outputs": [],
   "source": [
    "keyword = lambda company: '\"'+ company +'\"' + ' (' + ' OR '.join(words) + ')'\n",
    "filename = lambda company: company + '.csv'"
   ]
  },
  {
   "cell_type": "code",
   "execution_count": 41,
   "metadata": {},
   "outputs": [
    {
     "data": {
      "text/plain": [
       "'\"AT&T\" (Data OR Network OR Broadband OR Mobile OR 5G OR 4G OR 3G OR 2G OR Cable OR Cellular OR Internet OR Roaming OR Spectrum OR Throttling OR Hotspot OR Wifi OR Wi-fi OR LTE OR Dial OR Bandwidth OR Fiber OR Latency OR Carrier OR GB OR Gbps OR MB OR Mbps OR Modem OR Router OR Unlimited)'"
      ]
     },
     "execution_count": 41,
     "metadata": {},
     "output_type": "execute_result"
    }
   ],
   "source": [
    "keyword('AT&T')"
   ]
  },
  {
   "cell_type": "code",
   "execution_count": 61,
   "metadata": {},
   "outputs": [
    {
     "name": "stdout",
     "output_type": "stream",
     "text": [
      "1270177850923024384 2020-06-08 22:16:13 EDT <doxiedachsie> How is T-Mobile in your area? They are pretty fast here, not counting 5G.\n",
      "1270099420827152384 2020-06-08 17:04:33 EDT <websmenu> New gift idea (Moto Z4 – Unlocked – 128 GB – Flash Gray (US Warranty) - Verizon, AT&T, T-Mobile, Sprint, B ...) has been published on  -  https://optionshowcase.com/giftadvisor/giftshowcase/electronics/cell-phone-accessories/unlocked-cell-phone/moto-z4-unlocked-128-gb-flash-gray-us-warranty-verizon-att-t-mobile-sprint-boost-cricket-metro-paf60007us/ … #Monday #Tuesday #Wednesday #Thursday #Firday #Saturday #Sunday #amazon #gift #shopping #discount #follow #UnitedStates pic.twitter.com/9nidc5FvAo\n",
      "1270039620793884675 2020-06-08 13:06:56 EDT <saschasegan> Does it have the T-Mobile network patch?!\n",
      "1269944447539671041 2020-06-08 06:48:45 EDT <AllMediaNewYork> MLB Network announced it will provide more coverage than ever before of the 2020 MLB Draft presented by T-Mobile, marking the 12th consecutive year. more sports news at  http://AllMediaNY.com   ☛  https://bit.ly/3cJWp2i  #MLBTheShow20 #tmobile https://youtu.be/H38rpvEfe3M \n",
      "1269105573783572491 2020-06-05 23:15:22 EDT <Tausee_F> Andy really told the 75th precient “If y’all cowards ya should not be a cop you should work at fucking T-Mobile” lmfaooooooo T Mobile jokes always slap man\n",
      "1268962062581014528 2020-06-05 13:45:06 EDT <jillykila> Hey guys, if you have T-Mobile or Metro PCS, dial #662# to block all scam likely calls. 📲\n",
      "1268961814257295360 2020-06-05 13:44:07 EDT <PCMag> T-Mobile and Verizon both sped up their 5G systems in May, but we're still waiting for a network that offers both coverage and speed:  https://trib.al/PM2OeGA  pic.twitter.com/Xe43h6hnA2\n",
      "1268950629315158018 2020-06-05 12:59:40 EDT <PCMag> T-Mobile Boasts 5G Coverage in All 50 States  https://www.pcmag.com/news/t-mobile-boasts-5g-coverage-in-all-50-states?taid=5eda79fb359801000160fd86&utm_campaign=trueAnthem%3A+Trending+Content&utm_medium=trueAnthem&utm_source=twitter … pic.twitter.com/WPfn0tSdlP\n",
      "1268950163583905797 2020-06-05 12:57:49 EDT <carlquintanilla> All-time highs:  Apple Analog Devices Autodesk T-Mobile Home Depot Danaher PerkinElmer Thermo-Fisher Roper  United Health Equifax  Carrier Global Otis Worldwide Rockwell KLA Corp Skyworks  Microchip  @CNBC\n",
      "1268903143523454977 2020-06-05 09:50:59 EDT <nonlinear> what's @signalapp policy on that? It treats ipad mini (mobile) as a phone but it treats ipad pro (mobile) as a secondary machine.  I do have my t-mobile card on it. It's a mobile.  I'll be SO FUCKED if I can't access signal. I use it for EVERYTHING.\n",
      "1268523376387162118 2020-06-04 08:41:55 EDT <tobym> When my laptop is connected to my phone’s hotspot, Cloudflare’s 1.1.1.1 DNS doesn’t work. (iPhone with T-Mobile service in US, MacBook with Catalina).\n",
      "1268320874769207296 2020-06-03 19:17:15 EDT <nishnishxo_> T-Mobile and their data blows mine\n",
      "1268202850473201674 2020-06-03 11:28:16 EDT <CimCimma718> im running 13.5 I managed to unlock the phone by doing a factory restore, no icloud issue. My issue now is it's activation locked to Sprint network. I cant use my t-mobile sim card.\n",
      "1268201659546492929 2020-06-03 11:23:32 EDT <Light_Reading> T-Mobile moving NYC's midband 5G signal from Nokia to Ericsson  http://dlvr.it/RXvsVk \n",
      "1268194759505518599 2020-06-03 10:56:07 EDT <5GTechNews> T-Mobile and GCI on Tuesday announced a partnership to allow T-Mobile customers with 5G smartphones to use 5G while roaming in Anchorage, Alaska.  Read the full story by clicking on the link in our bio.  For more breaking news, analysis and insights from the global IT and te…  pic.twitter.com/nUgyLH8duw\n",
      "1268184988257787905 2020-06-03 10:17:17 EDT <5GTechNews> T-Mobile and GCI on Tuesday announced a partnership to allow T-Mobile customers with 5G smartphones to use 5G while roaming in Anchorage, Alaska.  Read the full story by clicking on the link in our bio.  For more breaking news, analysis and insights from the global IT and te…  pic.twitter.com/pzkocNktDY\n",
      "1268074970158153730 2020-06-03 03:00:07 EDT <PCMag> T-Mobile Boasts 5G Coverage in All 50 States  https://www.pcmag.com/news/t-mobile-boasts-5g-coverage-in-all-50-states?taid=5ed74a769ff00400013d0997&utm_campaign=trueAnthem%3A+Trending+Content&utm_medium=trueAnthem&utm_source=twitter … pic.twitter.com/b1qPYcsChE\n",
      "1268012640405729280 2020-06-02 22:52:26 EDT <TaraNeal11> T-Mobile Signs 5G Roaming Agreement with GCI in Alaska  https://bit.ly/3ct81Xw \n",
      "1267945090963701761 2020-06-02 18:24:01 EDT <scottbix> If anyone wants to drive Richard Grenell particularly nuts, just accidentally put an extra “n” in his surname in a tweet. The single pissiest email I’ve ever received, and that includes people whose signature email includes “Sent from my T-Mobile 4G LTE device.”\n",
      "1267927484739325954 2020-06-02 17:14:03 EDT <dcseifert> i’d be more mad if i ever left the house anymore, but my data usage is in the dozens of megabytes per month at this point (I’ve got an S20 on T-Mobile)\n",
      "1267878493209198592 2020-06-02 13:59:23 EDT <RedStormPro> T-mobile and Boost Mobile stores on West Kingsbridge Road, looted overnight smh. This shit has to stop. Stop destroying your neighborhoods.  https://www.instagram.com/p/CA8SPyeJIK8aWpoJAxd0wQ_dU4CZY-I4PXGETw0/?igshid=16tpgdaqpadcm …\n",
      "1267779755459276801 2020-06-02 07:27:02 EDT <DSLReports> T-Mobile Now Has 5G Coverage Available In All 50 States; Analyst: HBO Max Isn't A GameChanger For AT&T; + more news -  http://dlvr.it/RXqQs1 \n",
      "1267572018758643712 2020-06-01 17:41:34 EDT <Light_Reading> Dish adds former T-Mobile exec Mayo to 5G buildout recipe  http://dlvr.it/RXndnn  pic.twitter.com/nzV8IXpjKg\n",
      "1267491374871515137 2020-06-01 12:21:07 EDT <latesttoy> T-Mobile offers 5G in all 50 states through a roaming deal...\n",
      "1267478025207025665 2020-06-01 11:28:04 EDT <WebWizSolutions> T-Mobile touts that it now has 5G coverage in all 50 states - CNET  https://bit.ly/3doSEka  pic.twitter.com/Xh9A5CRzFZ\n",
      "1267422891018260482 2020-06-01 07:48:59 EDT <newyorknewart> #dcblackout KIDS NEED TO GROW UP! THE INTERNET IS AS FRAGILE AS VERIZON, SPRINT, T-MOBILE, ATT AND OTHER ISP'S BEING ORDERED TO CUT ACCESS.  WASHING, D.C. HAS HAD THE ABILITY TO CUT TELEPHONIC ACCESS SINCE THE KENNEDY AND KING RIOTS IN 1960'S.  NOW ALL CITIES CAN BE CUT OFF.\n",
      "1264027103030382592 2020-05-22 22:55:20 EDT <JayAngelLatigo> @Sprint has joined the @TMobile family and that means a supercharged network for you! #sprint #tmobile #merger #areyouwithus @ T-Mobile  https://www.instagram.com/p/CAg6pu2pZlr/?igshid=nszebnt2i18o …\n",
      "1263819293361418242 2020-05-22 09:09:34 EDT <ElBaulDeLurodAA> Warriors4Wireless: Building 5G with Veterans | T-Mobile  https://youtu.be/wxad-sBydvc \n",
      "1263632588415041536 2020-05-21 20:47:40 EDT <Sanjeevbhasin7> For a limited time, new and existing T-Mobile® for Business customers that port in a new line get up to 90 days free for every line you switch via bill credits. The more lines you switch, the more you save!  Let’s Connect- sanjeev.bhasin@t-mobile.com #tmobileforbusiness #5g  pic.twitter.com/rAR1E0YNmm\n",
      "1263564684164300800 2020-05-21 16:17:51 EDT <ElBaulDeLurodAA> First Responders Receive Free Unlimited Service with 5G | T-Mobile Connecting Heroes   https://youtu.be/ri4TO9oLgyA \n",
      "1263445425241182209 2020-05-21 08:23:57 EDT <AirlineFlyer> @saschasegan send the phone over to me, I'm in the coverage area 😂 T-Mobile Busts Gigabit Barrier With Mid-Band New York City 5G  https://www.pcmag.com/news/t-mobile-busts-gigabit-barrier-with-mid-band-new-york-city-5g … #PCMag\n",
      "1263197211086721024 2020-05-20 15:57:38 EDT <RaeDiamond> Now if @Ask_Spectrum wants to settle this bill I’m gonna need them to speak with @TMobileHelp about their customer service, i have been trying to fix this bill for two weeks..it took T-Mobile one dm\n",
      "1262689804401217536 2020-05-19 06:21:23 EDT <Sanjeevbhasin7> With T-Mobile Bussiness Unlimited, you just get more. The plan with unlimited talk, text, and data on our U.S. network. Plus, stay connected abroad in 210+ destinations, get unlimited texting on Gogo®-enabled flights to, from, or within the U.S. Email: Sanjeev.bhasin@t-mobile.com  pic.twitter.com/76m0KNJ2zw\n",
      "1261264189479419907 2020-05-15 07:56:30 EDT <RobertJones2432> Also beware of any apartment in any building with the letter G also 5G towers of  T-mobile with sprit blackberry smartphones too I wounder why blackberry got discontinue? I all know the answer to that question\n",
      "1260678461577998337 2020-05-13 17:09:02 EDT <aldrich_armand> Yea bc they with T-MOBILE now and use 5G. We all gone die now.  pic.twitter.com/rmdoRq0hxW\n",
      "1260375730040512518 2020-05-12 21:06:05 EDT <LTEstyles> Turned off WiFi and going full 4G LTE ◢ while stuck at home. I'm not trying to give T-Mobile my money without using its network. 💸\n",
      "1260345331742580736 2020-05-12 19:05:17 EDT <LTEstyles> Neville Ray, CTO of T-Mobile, said it's newly acquired 2.5ghz 5G spectrum from the Sprint acquisition will take less than 2 years to deploy. That's very ambitious of him to say. Guess we'll find out in 2022. Any bets??\n",
      "1260040474972258308 2020-05-11 22:53:54 EDT <julianpatrickR> Selling All my Exon mobile stock and buying heavy into Wlalmart and T-Mobile\n",
      "1258581603871338497 2020-05-07 22:16:52 EDT <goldisacks> I love watching Brooke make her little video calls on the Metro by T-Mobile network :)\n",
      "1258204278281383937 2020-05-06 21:17:30 EDT <chicksinkicks2> I left sprint for that reason years ago. I actually really liked T-Mobile. But this merger with sprint seems to be bringing their crappy service over and replacing the good service they had. Browsing off WiFi while on the phone is a big plus. I will definitely leave and go to att\n"
     ]
    },
    {
     "name": "stdout",
     "output_type": "stream",
     "text": [
      "1258145560391036929 2020-05-06 17:24:11 EDT <ronald_809_> Hello again, is there any update on the additional PCS coming from @sprint . Will the new T-mobile use the extra PCS spectrum for LTE or 5G? #TMUS\n",
      "1255958129461919744 2020-04-30 16:32:07 EDT <ronald_809_> PCS has better range, AWS is a mess in the US, most of it is being waste it by Dish🙄. At least T-mobile will own the majority of the PCS spectrum here in the US and put it to work right away.\n",
      "1252416635580764160 2020-04-20 21:59:29 EDT <SnowMan2989> Teddy got that t-mobile wifi\n",
      "1251959308260122633 2020-04-19 15:42:14 EDT <DanJnsNYC>  http://GSMArena.com : T-Mobile continues maintaining and rolling out its LTE and 5G network amidst COVID-19 -  http://GSMArena.com  news.  https://www.gsmarena.com/tmobile_continues_rolling_out_its_lte_and_5g_network_capacity_amidst_covid19-news-42742.php …  via @GoogleNews\n",
      "1251158213690486787 2020-04-17 10:38:58 EDT <R_E_B_E_L_> So T-Mobile took over Sprint officially. Just got the email. Great more 5G towers...guess this will never end 🤣🤣🤣🤣 Isn’t being intelligent, fun?\n",
      "1249227428574216192 2020-04-12 02:46:43 EDT <WallStSaaSBro> New T-Mobile will have over 300 MHz of low and mid band spectrum, compared with 176 MHZ for AT&T and 117 MHZ for Verizon  https://www.barrons.com/articles/t-mobile-and-sprint-have-merged-what-it-means-for-your-cellphone-bill-51586521800?emailToken=08711c6c519970326712dba41a1c8b02bT4wDliOjO0Pm5sYKwa%252B9Yt7n%252FcMNh6Jjk%252FxiX8PdxT%252FyCSAczco%252BOgSQnkK5YKy%252BeVs2wpcRussl36liTt6SmjCvppcbSRwq2zL0ORhJ9YtHOY9zHYCwg%252BOATUPEmJbzSyFfrTlDAh%252BDJ96WSVWdQ%253D%253D …\n",
      "1248158999540793344 2020-04-09 04:01:09 EDT <BlueIvysaur> Emailed my professor the topic for my powerpoint and all she responded was “Great” and didn’t even bother to delete the “Sent from my T-Mobile 4G LTE device”  pic.twitter.com/F18nn0Zg2h\n",
      "1248047071917158400 2020-04-08 20:36:24 EDT <EtherealNataa> Optimum hotspot is on every corner of the hood in ny you don’t need to pay for no damn T-Mobile 😭😭😭😭\n",
      "1247948912180236288 2020-04-08 14:06:21 EDT <LTEstyles> Blame 600mhz for your slow-ass 5G speeds on T-Mobile.\n",
      "1247002621468119040 2020-04-05 23:26:07 EDT <LifeAs_Brandon> Idk if it’s just me or since T-Mobile made the merge with Sprint my data be so fucking slow the last week.....?\n",
      "1245807165991989253 2020-04-02 16:15:49 EDT <andrewmartonik> A weak competitor is still a competitor. Especially if it has big international backing and a nationwide network. There certainly was a time a handful of years ago when nobody thought T-Mobile was worth a damn or at all a competitor, and yet here we are.\n",
      "1245398750450909186 2020-04-01 13:12:55 EDT <LTEstyles> I could care less about the CEOs of T-Mobile and Sprint, along with the politics that go with it. I just want the USA to be the leader of 5G.  We got the spectrum now. Let's continue to work w/ Nokia and Ericsson. Let's stay away from Huawei and all that good for nothing \"tech\".\n",
      "1244868698621566977 2020-03-31 02:06:40 EDT <DICKBYAIR> T-Mobile 5G tweaking on y’all huh\n",
      "1243300420619034631 2020-03-26 18:14:54 EDT <PascalGienger> I did the same when I visited Germany. I streamed @PureRTBF via @Radioline_app . T-Mobile USA gave free 256 kbit/s Roaming data during my stay. So it worked perfectly.\n",
      "1242881732044562433 2020-03-25 14:31:11 EDT <HempFlowerrr> If you have T-Mobile the hotspot feature on your phone is not a lot and convenient.\n",
      "1242464304080678914 2020-03-24 10:52:28 EDT <andrewmartonik> That's why we're currently seeing situations where AT&T's 5GE and T-Mobile's Sub-6 5G are both nearly as fast as their respective mmWave 5G deployments. There isn't a ton of spectrum in use for mmWave at the moment, and the tower deployments aren't finished, so the gap is small.\n",
      "1242463823476543488 2020-03-24 10:50:34 EDT <andrewmartonik> AT&T obviously has the same sorts of spectrum limitations as T-Mobile does here right now. The speeds on the \"same\" network/tech in other cities could be dramatically better where it has more spectrum to use.\n",
      "1242463327822974981 2020-03-24 10:48:35 EDT <andrewmartonik> AT&T 5G (real, not 5GE) in upper Manhattan almost perfectly mirrors my experience with T-Mobile mmWave 5G. Speeds in the 100-150 dn / 10 up range, with much more consistently available signal than Verizon. Walked several blocks without dropping 5G.  pic.twitter.com/9cMuMmFxxx\n",
      "1242269407151296512 2020-03-23 21:58:01 EDT <tedtodorov> They can, as does the iPad, but at least with T-Mobile the direct cellular connection is vastly faster.  As for edge case - a minority - sure, but NYC’s subways are full of iPads (well, at least 10 days ago, back when there were passengers 😢)\n",
      "1242112003377897474 2020-03-23 11:32:33 EDT <fateswarning86> Useful for many...  Engadget: T-Mobile launches its $15 5G plan ahead of the Sprint merger.  https://www.engadget.com/2020/03/23/t-mobile-launches-5g-connect-plan/ …  via @GoogleNews\n",
      "1241098410507329538 2020-03-20 16:24:54 EDT <GhanaNYC> Lol son are you ed? T-Mobile throttles speeds after a certain GB no matter what plan you have, they’re saying they won’t throttle it. Why ya love coming on here speaking on things you know nothing about? 🤦🏿‍♂️  pic.twitter.com/yRYNZa441H\n",
      "1241084530943037441 2020-03-20 15:29:45 EDT <YMCMB911> @ATT sucks! No free benefits no nothing! Im gonna have to switch!  @TMobile said:  To keep you connected, T-Mobile is upgrading you to unlimited data for free until 5/13/2020. See our complete COVID-19 response plan here  http://t-mo.co/uncap \n",
      "1240729391954644997 2020-03-19 15:58:33 EDT <LTEstyles> How peculiar...  T-Mobile LTE speeds disappoint. Is AT&T to blame? Or...  pic.twitter.com/oIcsx5WMFW\n",
      "1238631486741413888 2020-03-13 21:02:13 EDT <fateswarning86> Very generous and appreciated, @TMobile  Droid Life: T-Mobile Gives Everyone Unlimited Data in Response to Coronavirus.  https://www.droid-life.com/2020/03/13/t-mobile-gives-everyone-unlimited-data-more-hotspot-in-response-to-coronavirus/ …  via @GoogleNews\n",
      "1238568852998553602 2020-03-13 16:53:20 EDT <eliblumenthal> T-Mobile’s response to coronavirus: making all smartphone data plans unlimited for the next 60 days. Also giving an extra 20 GB of mobile hotspot data.  https://www.t-mobile.com/news/t-mobile-update-on-covid-19-response …\n"
     ]
    }
   ],
   "source": [
    "# Configure\n",
    "company = 'T-Mobile'\n",
    "c = twint.Config()\n",
    "c.Search = keyword(company)\n",
    "c.Near = 'New York, USA'\n",
    "c.Lang = \"en\"\n",
    "c.Since = \"2010-01-01 00:00:00\"\n",
    "#c.Until = \"2020-01-01 00:00:00\"\n",
    "c.Store_csv = True\n",
    "c.Output = filename(company)\n",
    "\n",
    "# Run\n",
    "twint.run.Search(c)"
   ]
  }
 ],
 "metadata": {
  "kernelspec": {
   "display_name": "Python 3",
   "language": "python",
   "name": "python3"
  },
  "language_info": {
   "codemirror_mode": {
    "name": "ipython",
    "version": 3
   },
   "file_extension": ".py",
   "mimetype": "text/x-python",
   "name": "python",
   "nbconvert_exporter": "python",
   "pygments_lexer": "ipython3",
   "version": "3.7.3"
  }
 },
 "nbformat": 4,
 "nbformat_minor": 2
}
