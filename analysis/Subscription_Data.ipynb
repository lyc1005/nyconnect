{
 "cells": [
  {
   "cell_type": "markdown",
   "metadata": {},
   "source": [
    "[Methodology](http://darribas.org/gds_scipy16/ipynb_md/08_spatial_regression.html) adapted from terrific notebooks published by Sergio Rey and Arribas and their PySal [notebooks](http://pysal.org/notebooks/lib/libpysal/weights.html) page."
   ]
  },
  {
   "cell_type": "code",
   "execution_count": 1,
   "metadata": {},
   "outputs": [
    {
     "name": "stderr",
     "output_type": "stream",
     "text": [
      "c:\\users\\wesch\\appdata\\local\\programs\\python\\python37\\lib\\site-packages\\statsmodels\\tools\\_testing.py:19: FutureWarning: pandas.util.testing is deprecated. Use the functions in the public API at pandas.testing instead.\n",
      "  import pandas.util.testing as tm\n"
     ]
    }
   ],
   "source": [
    "import seaborn as sns\n",
    "import matplotlib.pyplot as plt\n",
    "import numpy as np\n",
    "import pandas as pd\n",
    "import geopandas as gpd\n",
    "import plotly.graph_objs as go\n",
    "import plotly.express as px\n",
    "import os as os\n",
    "import libpysal as lps\n",
    "import spreg\n",
    "from libpysal.weights import Queen, KNN\n",
    "import esda\n",
    "from sklearn.metrics.pairwise import cosine_similarity\n",
    "from scipy.stats import ttest_rel, shapiro\n",
    "from sklearn import preprocessing\n",
    "import json\n",
    "np.random.seed(1728)"
   ]
  },
  {
   "cell_type": "code",
   "execution_count": 2,
   "metadata": {},
   "outputs": [],
   "source": [
    "# Adjust directory accordingly\n",
    "os.chdir('C:\\\\Users\\\\wesch\\\\OneDrive\\\\20 Spring Summer Urban Science Intensive\\\\nyconnect\\\\data')"
   ]
  },
  {
   "cell_type": "code",
   "execution_count": 3,
   "metadata": {},
   "outputs": [],
   "source": [
    "# load datasets\n",
    "subscription = pd.read_csv(\"./ACS_Internet_Subscription/subscription_acs_2018.csv\")\n",
    "income = pd.read_csv(\"./Demographics/Income/household_income_acs2018.csv\")\n",
    "race = pd.read_csv(\"./Demographics/Basic Count/tract_race_acs2018.csv\")\n",
    "census_tracts = gpd.read_file(\"./2010_Census_Tracts/geo_export_0ca1f0a1-f242-497a-9f86-91b88fc18647.shp\")\n",
    "mobile_rooftop = pd.read_csv(\"./Cellular_Towers/Mobile_Rooftop_Installations_CensusTract_2018.csv\")\n",
    "broadband_pricing = pd.read_csv(\"./Broadband Prices/broadband_price_census2018.csv\")"
   ]
  },
  {
   "cell_type": "code",
   "execution_count": 4,
   "metadata": {},
   "outputs": [],
   "source": [
    "# FCC data cleaning\n",
    "fcc477_18 = pd.read_csv(\"./FCC_477/NY-Fixed-Jun2018-v1.csv\", encoding = \"ISO-8859-1\")\n",
    "fcc477_18.rename(columns={'Census Block FIPS Code':'FIPS'}, inplace=True)\n",
    "# get FIPS 11: state + county + tract\n",
    "fcc477_18[\"FIPS\"] = fcc477_18[\"FIPS\"].astype(str)\n",
    "fcc477_18[\"FIPS_11\"] = fcc477_18[\"FIPS\"].str[:11]\n",
    "# filter for unique providers in each tract that provide broadband service\n",
    "fcc477_18_broadband = fcc477_18[(fcc477_18[\"Max Advertised Downstream Speed (mbps)\"]>=25.0)&(fcc477_18[\"Max Advertised Upstream Speed (mbps)\"]>=3.0)]\n",
    "# prepare for merging\n",
    "fcc477_18_broadband_grouped = fcc477_18_broadband.groupby([\"FIPS_11\", \"boro\"]).agg(\n",
    "    num_providers = pd.NamedAgg(column = \"Provider Name\", aggfunc = lambda x: len(x.unique())))\n",
    "fcc477_18_broadband_grouped.reset_index(inplace=True)\n",
    "fcc477_18_broadband_grouped[\"ct2010\"] = fcc477_18_broadband_grouped[\"FIPS_11\"].str[5:]\n",
    "fcc477_18_broadband_grouped[\"boro\"] = fcc477_18_broadband_grouped[\"boro\"].replace({\"bronx\": \"Bronx\",\n",
    "                                                                    \"brooklyn\": \"Brooklyn\",\n",
    "                                                                    \"manhattan\": \"Manhattan\",\n",
    "                                                                    \"staten island\": \"Staten Island\",\n",
    "                                                                    \"queens\": \"Queens\"})\n",
    "# merge\n",
    "fcc477_18_broadband_grouped_merged = fcc477_18_broadband_grouped.merge(census_tracts.loc[:,[\"boro_name\", \"ct2010\", \"ctlabel\"]], right_on = [\"ct2010\", \"boro_name\"], left_on = [\"ct2010\", \"boro\"])\n",
    "# new common column\n",
    "fcc477_18_broadband_grouped_merged[\"BoroCTLbl\"] = fcc477_18_broadband_grouped_merged[\"boro_name\"] + \" \" + fcc477_18_broadband_grouped_merged[\"ctlabel\"].astype(str)\n",
    "# select only for those columns\n",
    "fcc477_18_broadband_grouped_merged = fcc477_18_broadband_grouped_merged[[\"BoroCTLbl\", \"num_providers\"]]"
   ]
  },
  {
   "cell_type": "code",
   "execution_count": 5,
   "metadata": {},
   "outputs": [],
   "source": [
    "# data cleaning \n",
    "## Calculating race as a percentage\n",
    "race = race.assign(White = lambda x: x[\"White\"]/x[\"Total\"]*100,\n",
    "                  Black = lambda x: x[\"Black\"]/x[\"Total\"]*100,\n",
    "                  Native = lambda x: x[\"Native\"]/x[\"Total\"]*100,\n",
    "                  Asian = lambda x: x[\"Asian\"]/x[\"Total\"]*100,\n",
    "                  PacificIslander = lambda x: x[\"Pacific Islander\"]/x[\"Total\"]*100,\n",
    "                  Other = lambda x: x[\"Other\"]/x[\"Total\"]*100,\n",
    "                  TwoOrMore = lambda x: x[\"Two or More\"]/x[\"Total\"]*100)\n",
    "race = race[['city', 'tract', 'county', \"BoroCTLbl\", 'Total', 'White', 'Black', 'Native', 'Asian', \n",
    "                'PacificIslander', 'Other','TwoOrMore']]\n",
    "## Calculating subscription as a percentage\n",
    "subscription = subscription.assign(Mobile_Dependent = lambda x: x[\"Mobile_Dependent\"]/x[\"Total\"]*100,\n",
    "                                   Wired_Broadband = lambda x: x[\"Wired_Broadband\"]/x[\"Total\"]*100,\n",
    "                                   No_Internet = lambda x: x[\"No_Internet\"]/x[\"Total\"]*100)\n",
    "## filling NAs\n",
    "race = race.fillna(0)\n",
    "income = income.fillna(0)\n",
    "subscription = subscription.fillna(0)\n",
    "## returning centroid of each census tract\n",
    "census_tracts = census_tracts.assign(longitude = lambda x: x.geometry.centroid.x,\n",
    "                                    latitude = lambda x: x.geometry.centroid.y)\n",
    "## rename column of mobile rooftop\n",
    "mobile_rooftop = mobile_rooftop.rename(columns={\"NUMPOINTS\":\"num_rooftop_cells\"})\n",
    "## creating a new dataframe with all the variables \n",
    "all_vars = income.merge(race, on = [\"city\", \"tract\", \"county\", \"BoroCTLbl\"])\n",
    "all_vars = all_vars.merge(subscription, on = [\"city\", \"tract\", \"county\", \"BoroCTLbl\"])\n",
    "all_vars = all_vars.merge(census_tracts.loc[:, [\"BoroCTLbl\", \"ntacode\", \"geometry\"]], on = [\"BoroCTLbl\"])\n",
    "all_vars = all_vars.merge(fcc477_18_broadband_grouped_merged, on = [\"BoroCTLbl\"])\n",
    "all_vars = all_vars.merge(mobile_rooftop.loc[:,[\"num_rooftop_cells\",\"BoroCTLbl\"]], on = [\"BoroCTLbl\"])\n",
    "all_vars = all_vars.merge(broadband_pricing.loc[:, [\"BoroCTLbl\", \"price\"]], on = [\"BoroCTLbl\"])\n",
    "## rename variables \n",
    "renamed_cols = {\n",
    "    'Total_x': 'PopulationCount',\n",
    "    'Total_y' : 'HouseholdCount'}\n",
    "all_vars.rename(columns=renamed_cols, inplace=True)\n",
    "## dropping NAs\n",
    "all_vars = all_vars.dropna()"
   ]
  },
  {
   "cell_type": "code",
   "execution_count": 44,
   "metadata": {},
   "outputs": [],
   "source": [
    "# subscription rates versus number of providers\n",
    "subscription_isps = all_vars\n",
    "subscription_isps[\"mean_isps_borough\"] = subscription_isps.groupby([\"county\"], group_keys = False).transform(\"mean\")[\"num_providers\"]\n",
    "subscription_isps[\"mean_subscription_borough\"] = subscription_isps.groupby([\"county\"], group_keys = False).transform(\"mean\")[\"Wired_Broadband\"]\n",
    "# finding census tracts with above average infra provision but below average subscription\n",
    "condition = [\n",
    "    (subscription_isps[\"num_providers\"]>subscription_isps[\"mean_isps_borough\"]) & (subscription_isps[\"Wired_Broadband\"]<subscription_isps[\"mean_subscription_borough\"])]\n",
    "choices = [\"Under\"]\n",
    "subscription_isps[\"subscription_status\"] = np.select(condition, choices, default = \"Above\")\n",
    "# plotting\n",
    "subscription_isps = gpd.GeoDataFrame(subscription_isps, crs = census_tracts.crs)\n",
    "from matplotlib import colors\n",
    "f, ax = plt.subplots(1, figsize=(9,9))\n",
    "hmap = colors.ListedColormap([\"#f0f0f0\", \"#636363\"])\n",
    "subscription_isps.plot(linewidth = 0.1, column = \"subscription_status\", categorical = True, cmap = hmap,\n",
    "                                           ax = ax, edgecolor = \"white\", legend = True)\n",
    "ax.set_axis_off()\n",
    "ax.set_title(\"Under-subscribed Census Tracts\")\n",
    "plt.show()"
   ]
  },
  {
   "cell_type": "code",
   "execution_count": 6,
   "metadata": {
    "collapsed": true
   },
   "outputs": [
    {
     "data": {
      "text/plain": [
       "<seaborn.axisgrid.FacetGrid at 0x26e8c820e48>"
      ]
     },
     "execution_count": 6,
     "metadata": {},
     "output_type": "execute_result"
    },
    {
     "data": {
      "image/png": "[encoded data removed]",
      "text/plain": [
       "<Figure size 360x360 with 1 Axes>"
      ]
     },
     "metadata": {
      "needs_background": "light"
     },
     "output_type": "display_data"
    }
   ],
   "source": [
    "# pricing\n",
    "pricing_subscription = subscription.merge(broadband_pricing.loc[:, [\"BoroCTLbl\", \"price\"]], on = [\"BoroCTLbl\"])\n",
    "\n",
    "sns.lmplot(x = \"price\", y = \"Wired_Broadband\", data = pricing_subscription, ci = None,\n",
    "           x_jitter = 0.75, y_jitter = 0.5, scatter_kws = {\"alpha\": 0.5})"
   ]
  },
  {
   "cell_type": "code",
   "execution_count": null,
   "metadata": {},
   "outputs": [],
   "source": [
    "# exporting\n",
    "all_vars.to_csv(\"./Demographics/Aggregated_Demographics.csv\")"
   ]
  },
  {
   "cell_type": "code",
   "execution_count": null,
   "metadata": {},
   "outputs": [],
   "source": [
    "# Creating spatial weights matrix\n",
    "weights = Queen.from_dataframe(all_vars)\n",
    "weights.transform = \"r\""
   ]
  },
  {
   "cell_type": "markdown",
   "metadata": {},
   "source": [
    "#### Local Spatial Autocorrelation and Local Moran's I Statistic"
   ]
  },
  {
   "cell_type": "code",
   "execution_count": null,
   "metadata": {},
   "outputs": [],
   "source": [
    "def moran_scatter_map(all_vars_df, dep_var, weights, titles, census_tracts = census_tracts):\n",
    "    # Creating y_var\n",
    "    y = all_vars_df[dep_var]\n",
    "    # Creating a lag variable \n",
    "    lag_var = lps.weights.lag_spatial(weights, y)\n",
    "    # lm for moran and plotting\n",
    "    b, a  = np.polyfit(y, lag_var, 1)\n",
    "    f, ax = plt.subplots(1, figsize=(9,9))\n",
    "\n",
    "    plt.plot(y, lag_var, \".\", color = \"#fb8072\")\n",
    "\n",
    "    plt.vlines(y.mean(), lag_var.min(),lag_var.max(), linestyle = \"--\")\n",
    "    plt.hlines(lag_var.mean(), y.min(), y.max(), linestyle = \"--\")\n",
    "\n",
    "    # plot line of best fit using global I as slope\n",
    "    plt.plot(y, a+b*y, \"#8da0cb\")\n",
    "    plt.title(\"Moran Scatterplot\")\n",
    "    plt.ylabel(\"Spatial Lag of \" + titles)\n",
    "    plt.xlabel(titles)\n",
    "    plt.show()\n",
    "    \n",
    "  \n",
    "    #calculating local moran's i \n",
    "    li = esda.moran.Moran_Local(y, weights)\n",
    "\n",
    "    # classifying and quadrants (xy)\n",
    "    sig = 1 * (li.p_sim < 0.05)\n",
    "    highhigh = 1* (sig * li.q == 1)\n",
    "    lowlow = 3* (sig * li.q == 3)\n",
    "    lowhigh = 2* (sig * li.q == 2)\n",
    "    highlow = 4* (sig * li.q == 4)\n",
    "\n",
    "    spots = highhigh + lowlow + lowhigh + highlow\n",
    "    spots_labels = [\"0 Not Sig\", \"1 High-High\", \"2 Low-High\", \"3 Low-Low\", \"High-Low\"]\n",
    "    labels = [spots_labels[i] for i in spots]\n",
    "    \n",
    "    # plotting map\n",
    "    from matplotlib import colors\n",
    "    hmap = colors.ListedColormap([\"#d9d9d9\", \"#fb8072\", \"#8dd3c7\", \"#80b1d3\", \"#bebada\"])\n",
    "    f, ax = plt.subplots(1, figsize=(9,9))\n",
    "    relevant_tracts = all_vars_df.loc[:,[\"geometry\"]]\n",
    "    relevant_tracts = gpd.GeoDataFrame(relevant_tracts, crs = census_tracts.crs)\n",
    "    relevant_tracts.assign(cl=labels).plot(column = \"cl\", categorical = True, k = 2, cmap = hmap, linewidth = 0.1, \n",
    "                                           ax = ax, edgecolor = \"white\", legend = True)\n",
    "    ax.set_axis_off()\n",
    "    ax.set_title(\"Spatial Association for \" + titles)\n",
    "    plt.show()"
   ]
  },
  {
   "cell_type": "markdown",
   "metadata": {},
   "source": [
    "**Moran's I Scatterplot**:  \n",
    "We are interested in Quadrants 1 and 3, the NE and SW respectively. If there is no spatial autocorrelation, we would not see such a strong positive correlation. The two quadrants represent clusters of contiguous Census Tracts with similar levels of home wired broadband subscription.  \n",
    "  \n",
    "The two dashed lines are the means of both axes. Values to below and above this are *low* and *high* respectively.   \n",
    "  \n",
    "**Spatial Association Map**:  \n",
    "Here we can see a map of similarly valued clusters."
   ]
  },
  {
   "cell_type": "code",
   "execution_count": null,
   "metadata": {},
   "outputs": [],
   "source": [
    "moran_scatter_map(all_vars, \"Wired_Broadband\", weights, \"Wired Broadband Subscription\")"
   ]
  },
  {
   "cell_type": "markdown",
   "metadata": {},
   "source": [
    "And prices? "
   ]
  },
  {
   "cell_type": "code",
   "execution_count": null,
   "metadata": {},
   "outputs": [],
   "source": [
    "moran_scatter_map(all_vars, \"price\", weights, \"Wired Broadband Prices\")"
   ]
  },
  {
   "cell_type": "markdown",
   "metadata": {},
   "source": [
    "Well, isn't this interesting? It turns out that there is very strong spatial autocorrelation patterns. Census tracts in Manhattan tend to be surrounded by tracts with equally low prices whereas those in Queens, Staten Island,and northern Manhattan pay more for broadband, and so do their surrounding census tracts."
   ]
  },
  {
   "cell_type": "markdown",
   "metadata": {},
   "source": [
    "And what about the number of ISPs? Are they spatially autocorrelated too"
   ]
  },
  {
   "cell_type": "code",
   "execution_count": null,
   "metadata": {},
   "outputs": [],
   "source": [
    "moran_scatter_map(all_vars, \"num_providers\", weights, \"Number of ISPs\")"
   ]
  },
  {
   "cell_type": "markdown",
   "metadata": {},
   "source": [
    "Now we pivot towards mobile broadband dependence."
   ]
  },
  {
   "cell_type": "code",
   "execution_count": null,
   "metadata": {},
   "outputs": [],
   "source": [
    "moran_scatter_map(all_vars, \"Mobile_Dependent\", weights, \"Mobile Broadband Dependence\")"
   ]
  },
  {
   "cell_type": "markdown",
   "metadata": {},
   "source": [
    "Repeating this analysis for mobile broadband dependence, we can see that a not entirely dissimilar pattern emerge. Clusters of census tracts with high mobile broadband dependence tend to be close to the areas wih low wired broadband subscription rates. But it is not a perfect match, suggesting that mobile broadband is not a perfect substitution."
   ]
  },
  {
   "cell_type": "code",
   "execution_count": null,
   "metadata": {},
   "outputs": [],
   "source": [
    "moran_scatter_map(all_vars, \"No_Internet\", weights, \"Households w/o Internet Access\")"
   ]
  },
  {
   "cell_type": "markdown",
   "metadata": {},
   "source": [
    "This is a much more perfect match with *wired broadband subscription* than *mobile broadband dependence*. Clusters with high levels of households without internet access tend to be found around LES, Coney Island, South Williamsburg, Flatbush, Brownsville, East Harlem, and much of southern Bronx. Uncoincidentally, these tend to be areas with lower incomes and more racial minorities."
   ]
  },
  {
   "cell_type": "markdown",
   "metadata": {},
   "source": [
    "#### Spatial Regression for Wired Broadband"
   ]
  },
  {
   "cell_type": "markdown",
   "metadata": {},
   "source": [
    "Why are these spatial regressions special? They take into account spatial fixed effects. They do not assume that the dependent variable behaves uniformly acrss spacewith systematic effects. In so doing, we introduce econometrically the notion of spatial heterogeneity by allowing the constant term (regime) to vary geographically."
   ]
  },
  {
   "cell_type": "code",
   "execution_count": null,
   "metadata": {},
   "outputs": [],
   "source": [
    "y = all_vars.loc[:,[\"Wired_Broadband\"]]\n",
    "indep_vars = all_vars[['num_providers', 'Households (HH) Count', 'HH 0-10k', 'HH 10k-15k', 'HH 15k-25k', 'HH 25k-35k', \n",
    "                       'HH 35k-50k', 'HH 50k-75k', 'HH 75k-100k', 'HH 100k-150k', 'HH 150k-200k', 'HH 200k-UP', \n",
    "                       \"Household Median Income\", \"Household Mean Income\",'PopulationCount', 'White', 'Black', 'Native',\n",
    "                       'Asian', 'PacificIslander', 'Other', 'TwoOrMore', \"price\"]]"
   ]
  },
  {
   "cell_type": "code",
   "execution_count": null,
   "metadata": {},
   "outputs": [],
   "source": [
    "regimes = list(all_vars[\"county\"])"
   ]
  },
  {
   "cell_type": "code",
   "execution_count": null,
   "metadata": {},
   "outputs": [],
   "source": [
    "m1 = spreg.OLS_Regimes(y = np.array(y), x = np.array(indep_vars), regimes = regimes,\n",
    "                       w = weights, spat_diag = True,\n",
    "                       name_x = indep_vars.columns.tolist(), name_y = \"WiredBroadband_Pct\")"
   ]
  },
  {
   "cell_type": "code",
   "execution_count": null,
   "metadata": {},
   "outputs": [],
   "source": [
    "print(m1.summary)"
   ]
  },
  {
   "cell_type": "markdown",
   "metadata": {},
   "source": [
    "From the above, we can conclude that race is not statistically significant in testing for wired broadband subscription. Income is a much better predictor. Interesting enough, the number of providers is **NOT** significant either.  \n",
    "At the bottom of the summary object are four statistics for spatial dependence. I tested whether the residuals of the regression are spatially correlated, against the null of a random distribution over a designated space, NYC's census tracts in this case. Since, the tests reject the null hypothesis that error terms are randomly distributed in space, the normal OLS assumption of randomness is violated. Thus, OLS on its own is not particularly well suited. "
   ]
  },
  {
   "cell_type": "code",
   "execution_count": null,
   "metadata": {},
   "outputs": [],
   "source": [
    "m2 = spreg.GM_Lag_Regimes(y = np.array(y), x = np.array(indep_vars), regimes = regimes,\n",
    "                  w = weights,spat_diag = True,\n",
    "                  name_x = indep_vars.columns.tolist(), name_y = \"WiredBroadband_Pct\")"
   ]
  },
  {
   "cell_type": "code",
   "execution_count": null,
   "metadata": {},
   "outputs": [],
   "source": [
    "print(m2.summary)"
   ]
  },
  {
   "cell_type": "markdown",
   "metadata": {},
   "source": [
    "The results are roughly similar, and we can see that the spatially lagged variable is significant. What this means is that there is some form of spatial interaction between census tracts that causes some autocorrelation in wired broadband subscription. Even if we are not entirely convinced that a regression model can predict the rates of household broadband subscription, we want to see whether a lagged model can reduce MSE. Interestingly enough, even though the number of providers is not always significant, there is still some evidence of omitted variable bias. MSE was higher in the regressions without the number of providers. "
   ]
  },
  {
   "cell_type": "markdown",
   "metadata": {},
   "source": [
    "As a test, we can see what happens if we do not take into account fixed effects by measuring the differences in MSEs. Clearly, taking into account fixed effects at the borough level can reduce the mean squared errors very significantly."
   ]
  },
  {
   "cell_type": "code",
   "execution_count": null,
   "metadata": {},
   "outputs": [],
   "source": [
    "m1_2 = spreg.OLS(y = np.array(y), x = np.array(indep_vars),\n",
    "                       w = weights, spat_diag = True,\n",
    "                       name_x = indep_vars.columns.tolist(), name_y = \"WiredBroadband_Pct\")\n",
    "m2_2 = spreg.GM_Lag(y = np.array(y), x = np.array(indep_vars),\n",
    "                       w = weights, spat_diag = True,\n",
    "                       name_x = indep_vars.columns.tolist(), name_y = \"WiredBroadband_Pct\")"
   ]
  },
  {
   "cell_type": "code",
   "execution_count": null,
   "metadata": {},
   "outputs": [],
   "source": [
    "from sklearn.metrics import mean_squared_error as mse\n",
    "\n",
    "mses = pd.Series({'F.E. OLS': mse(y, m1.predy.flatten()),\n",
    "                'F.E. Lag': mse(y, m2.predy.flatten()),\n",
    "                'OLS': mse(y, m1_2.predy.flatten()),\n",
    "                'Lag': mse(y, m2_2.predy.flatten())})\n",
    "mses.sort_values()"
   ]
  },
  {
   "cell_type": "markdown",
   "metadata": {},
   "source": [
    "#### Spatial Regression for Mobile Broadband"
   ]
  },
  {
   "cell_type": "code",
   "execution_count": null,
   "metadata": {},
   "outputs": [],
   "source": [
    "y = all_vars.loc[:,[\"Mobile_Dependent\"]]\n",
    "indep_vars = all_vars[['Households (HH) Count',\n",
    "       'HH 0-10k', 'HH 10k-15k', 'HH 15k-25k', 'HH 25k-35k', 'HH 35k-50k',\n",
    "       'HH 50k-75k', 'HH 75k-100k', 'HH 100k-150k', 'HH 150k-200k',\n",
    "       'HH 200k-UP', \"Household Median Income\", \"Household Mean Income\", 'PopulationCount', 'White', 'Black', 'Native', 'Asian',\n",
    "       'PacificIslander', 'Other', 'TwoOrMore', \"num_rooftop_cells\"]]\n",
    "m3 = spreg.GM_Lag_Regimes(y = np.array(y), x = np.array(indep_vars), regimes = regimes,\n",
    "                  w = weights,spat_diag = True,\n",
    "                  name_x = indep_vars.columns.tolist(), name_y = \"MobileBroadbandDependence_Pct\")\n",
    "print(m3.summary)"
   ]
  },
  {
   "cell_type": "code",
   "execution_count": null,
   "metadata": {},
   "outputs": [],
   "source": [
    "m3_2 = spreg.GM_Lag(y = np.array(y), x = np.array(indep_vars),\n",
    "                  w = weights,spat_diag = True,\n",
    "                  name_x = indep_vars.columns.tolist(), name_y = \"MobileBroadbandDependence_Pct\")"
   ]
  },
  {
   "cell_type": "code",
   "execution_count": null,
   "metadata": {},
   "outputs": [],
   "source": [
    "mses = pd.Series({'F.E. Lag': mse(y, m3.predy.flatten()),\n",
    "                 'Lag': mse(y, m3_2.predy.flatten())})\n",
    "mses.sort_values()"
   ]
  },
  {
   "cell_type": "markdown",
   "metadata": {},
   "source": [
    "The same effect can be seen here. Taking into spatial fixed effects have a significant impact on reducing MSEs."
   ]
  },
  {
   "cell_type": "markdown",
   "metadata": {},
   "source": [
    "#### Demographics within Moran I Clusters"
   ]
  },
  {
   "cell_type": "markdown",
   "metadata": {},
   "source": [
    "Let us first look at household broadband subscription rates."
   ]
  },
  {
   "cell_type": "code",
   "execution_count": null,
   "metadata": {},
   "outputs": [],
   "source": [
    "# Creating y_var\n",
    "y = all_vars[\"Wired_Broadband\"]\n",
    "    \n",
    "#calculating local moran's i \n",
    "li = esda.moran.Moran_Local(y, weights)\n",
    "\n",
    "# classifying and quadrants (xy)\n",
    "sig = 1 * (li.p_sim < 0.05)\n",
    "highhigh = 1* (sig * li.q == 1)\n",
    "lowlow = 3* (sig * li.q == 3)\n",
    "lowhigh = 2* (sig * li.q == 2)\n",
    "highlow = 4* (sig * li.q == 4)\n",
    "\n",
    "spots = highhigh + lowlow + lowhigh + highlow\n",
    "spots_labels = [\"0 Not Sig\", \"1 High-High\", \"2 Low-High\", \"3 Low-Low\", \"High-Low\"]\n",
    "labels = [spots_labels[i] for i in spots]\n",
    "\n",
    "# adding labels\n",
    "demographics = all_vars.iloc[:,5:24]\n",
    "demographics = demographics.assign(hh_broadband_m1=labels)"
   ]
  },
  {
   "cell_type": "code",
   "execution_count": null,
   "metadata": {},
   "outputs": [],
   "source": [
    "highs = demographics.loc[(demographics.hh_broadband_m1==\"1 High-High\")]\n",
    "highs = highs.loc[:, [\"HH 0-10k\", \"HH 10k-15k\", \"HH 15k-25k\", \"HH 25k-35k\", \"HH 35k-50k\", \"HH 50k-75k\", \"HH 75k-100k\", \"HH 100k-150k\", \"HH 150k-200k\", \"HH 200k-UP\", \"PopulationCount\", \"White\", \"Black\", \"Native\", \"Asian\", \"PacificIslander\", \"Other\", \"Household Median Income\", \"Household Mean Income\"]]\n",
    "high_cosine_sim = cosine_similarity(highs, highs)\n",
    "lows = demographics.loc[((demographics.hh_broadband_m1==\"3 Low-Low\"))]\n",
    "lows = lows.loc[:, [\"HH 0-10k\", \"HH 10k-15k\", \"HH 15k-25k\", \"HH 25k-35k\", \"HH 35k-50k\", \"HH 50k-75k\", \"HH 75k-100k\", \"HH 100k-150k\", \"HH 150k-200k\", \"HH 200k-UP\", \"PopulationCount\", \"White\", \"Black\", \"Native\", \"Asian\", \"PacificIslander\", \"Other\", \"Household Median Income\", \"Household Mean Income\"]]\n",
    "lows_cosine_sim = cosine_similarity(lows, lows)\n",
    "demographics_num = demographics.loc[:,[\"HH 0-10k\", \"HH 10k-15k\", \"HH 15k-25k\", \"HH 25k-35k\", \"HH 35k-50k\", \"HH 50k-75k\", \"HH 75k-100k\", \"HH 100k-150k\", \"HH 150k-200k\", \"HH 200k-UP\", \"PopulationCount\", \"White\", \"Black\", \"Native\", \"Asian\", \"PacificIslander\", \"Other\", \"Household Median Income\", \"Household Mean Income\"]]\n",
    "demographics_cosine_sim = cosine_similarity(demographics_num, demographics_num)"
   ]
  },
  {
   "cell_type": "code",
   "execution_count": null,
   "metadata": {},
   "outputs": [],
   "source": [
    "print(\"Average cosine similarity (%) between \\n\" + \n",
    "     \"High-High Cluster: \" + str(round(np.mean(high_cosine_sim)*100,2)) + \n",
    "     \"\\nLow-Low Cluster: \"+ str(round(np.mean(lows_cosine_sim)*100,2)) + \n",
    "     \"\\nAll Census Tracts: \"+ str(round(np.mean(demographics_cosine_sim)*100,2)))"
   ]
  },
  {
   "cell_type": "markdown",
   "metadata": {},
   "source": [
    "Demographically, it appears that census tracts with high levels of household broadband subscription are more homogenous than those with low levels of household broadband subscription.  "
   ]
  },
  {
   "cell_type": "markdown",
   "metadata": {},
   "source": [
    "### Comparing 2017 w/ 2018"
   ]
  },
  {
   "cell_type": "code",
   "execution_count": null,
   "metadata": {},
   "outputs": [],
   "source": [
    "# load datasets\n",
    "subscription_17 = pd.read_csv(\"./ACS_Internet_Subscription/subscription_acs_2017.csv\")\n",
    "subscription_18 = pd.read_csv(\"./ACS_Internet_Subscription/subscription_acs_2018.csv\")\n",
    "with open(\"./2010_Census_Tracts/census_tracts.geojson\") as f:\n",
    "    census_tracts_json = json.load(f)\n",
    "\n",
    "# change column names\n",
    "subscription_17.columns = [\"city\", \"tract\", \"county\", \"BoroCTLbl\", \"total_17\", \"mobile_17\", \"wired_17\", \"no_int_17\"]\n",
    "subscription_18.columns = [\"city\", \"tract\", \"county\", \"BoroCTLbl\", \"total_18\", \"mobile_18\", \"wired_18\", \"no_int_18\"]\n",
    "\n",
    "# merged dataset\n",
    "subscription_merged = subscription_17.merge(subscription_18.loc[:,[\"BoroCTLbl\", \"total_18\", \"mobile_18\", \"wired_18\", \"no_int_18\"]], left_on = \"BoroCTLbl\", right_on = \"BoroCTLbl\")\n",
    "\n",
    "# calculating changes\n",
    "subscription_merged = subscription_merged.assign(\n",
    "    total_change = lambda x: (x[\"total_18\"]-x[\"total_17\"])/x[\"total_17\"],\n",
    "    mobile_change = lambda x: (x[\"mobile_18\"]-x[\"mobile_17\"])/x[\"mobile_17\"],\n",
    "    wired_hh_change = lambda x: (x[\"wired_18\"]-x[\"wired_17\"])/x[\"wired_17\"],\n",
    "    no_int_change = lambda x: (x[\"no_int_18\"]-x[\"no_int_17\"])/x[\"no_int_17\"])\n",
    "\n",
    "# replacing NaNs and undefined\n",
    "subscription_merged = subscription_merged.fillna(0)\n",
    "subscription_merged = subscription_merged.replace(np.inf, 1)"
   ]
  },
  {
   "cell_type": "code",
   "execution_count": null,
   "metadata": {},
   "outputs": [],
   "source": [
    "# to make them look gaussian but disable forced scaling of mean to 0 and unit variance\n",
    "mobile_17_scaled = preprocessing.scale(subscription_merged[\"mobile_17\"], with_mean = False, with_std = False)\n",
    "mobile_18_scaled = preprocessing.scale(subscription_merged[\"mobile_18\"], with_mean = False, with_std = False)\n",
    "wired_hh_17_scaled = preprocessing.scale(subscription_merged[\"wired_17\"], with_mean = False, with_std = False)\n",
    "wired_hh_18_scaled = preprocessing.scale(subscription_merged[\"wired_18\"], with_mean = False, with_std = False)\n",
    "no_int_17_scaled = preprocessing.scale(subscription_merged[\"no_int_17\"], with_mean = False, with_std = False)\n",
    "no_int_18_scaled = preprocessing.scale(subscription_merged[\"no_int_18\"], with_mean = False, with_std = False)"
   ]
  },
  {
   "cell_type": "markdown",
   "metadata": {},
   "source": [
    "#### Statistical Tests  \n",
    "  \n",
    "First, we have to run a few tests to see whether the differences over the years are statistically significant."
   ]
  },
  {
   "cell_type": "code",
   "execution_count": null,
   "metadata": {},
   "outputs": [],
   "source": [
    "stat, p = ttest_rel(mobile_17_scaled, mobile_18_scaled)\n",
    "if p > 0.01:\n",
    "    print(\"At C.I. of 99%, there are no differences between the two w.r.t subscription of mobile broadband.\")\n",
    "else:\n",
    "    print(\"At C.I. of 99%, the two years are different w.r.t subscription of mobile broadband.\")"
   ]
  },
  {
   "cell_type": "code",
   "execution_count": null,
   "metadata": {},
   "outputs": [],
   "source": [
    "stat, p = ttest_rel(wired_hh_17_scaled, wired_hh_18_scaled)\n",
    "if p > 0.01:\n",
    "    print(\"At C.I. of 99%, there are no differences between the two w.r.t subscription of wired household broadband.\")\n",
    "else:\n",
    "    print(\"At C.I. of 99%, the two years are different w.r.t subscription of wired household broadband.\")"
   ]
  },
  {
   "cell_type": "code",
   "execution_count": null,
   "metadata": {},
   "outputs": [],
   "source": [
    "stat, p = ttest_rel(no_int_17_scaled, no_int_18_scaled)\n",
    "if p > 0.01:\n",
    "    print(\"At C.I. of 99%, there are no differences between the two w.r.t the prop. of households w/o any internet subscription.\")\n",
    "else:\n",
    "    print(\"At C.I. of 99%, the two years are different w.r.t the prop. of households w/o any internet subscription.\")"
   ]
  },
  {
   "cell_type": "markdown",
   "metadata": {},
   "source": [
    "Okay, so the differences are statistically significant, meaning that there probably are **real** changes between 2017 and 2018."
   ]
  },
  {
   "cell_type": "code",
   "execution_count": null,
   "metadata": {
    "scrolled": true
   },
   "outputs": [],
   "source": [
    "# removing outliers\n",
    "wired_hh_subscription_no_outliers = subscription_merged[(subscription_merged[\"wired_hh_change\"]!=-1) & (subscription_merged[\"wired_hh_change\"]<1)]\n",
    "mobile_subscription_no_outliers = subscription_merged[(subscription_merged[\"mobile_change\"]!=-1) & (subscription_merged[\"mobile_change\"]<1)]\n",
    "no_int_subscription_no_outliers = subscription_merged[(subscription_merged[\"no_int_change\"]!=-1) & (subscription_merged[\"no_int_change\"]<1)]\n",
    "total_subscription_no_outliers = subscription_merged[(subscription_merged[\"total_change\"]!=-1) & (subscription_merged[\"total_change\"]<1)]"
   ]
  },
  {
   "cell_type": "code",
   "execution_count": null,
   "metadata": {},
   "outputs": [],
   "source": [
    "fig = px.choropleth(wired_hh_subscription_no_outliers, geojson=census_tracts_json, color = \"wired_hh_change\", featureidkey = \"properties.BoroCTLbl\", \n",
    "                    locations = \"BoroCTLbl\", projection = \"albers usa\",\n",
    "                   color_continuous_scale=\"Viridis\")\n",
    "fig.update_geos(fitbounds = \"locations\", visible = False)\n",
    "fig.update_layout(margin={\"r\":0,\"t\":100,\"l\":0,\"b\":0},\n",
    "                 title_text = \"Percentage Difference in Household Wired Broadband Subscription\")\n",
    "fig.show()"
   ]
  },
  {
   "cell_type": "code",
   "execution_count": null,
   "metadata": {},
   "outputs": [],
   "source": [
    "fig = px.choropleth(mobile_subscription_no_outliers, geojson=census_tracts_json, color = \"mobile_change\", featureidkey = \"properties.BoroCTLbl\", \n",
    "                    locations = \"BoroCTLbl\", projection = \"albers usa\",\n",
    "                   color_continuous_scale=\"Viridis\")\n",
    "fig.update_geos(fitbounds = \"locations\", visible = False)\n",
    "fig.update_layout(margin={\"r\":0,\"t\":100,\"l\":0,\"b\":0},\n",
    "                 title_text = \"Percentage Difference in Mobile Broadband Subscription\")\n",
    "fig.show()"
   ]
  },
  {
   "cell_type": "code",
   "execution_count": null,
   "metadata": {},
   "outputs": [],
   "source": [
    "fig = px.choropleth(no_int_subscription_no_outliers, geojson=census_tracts_json, color = \"no_int_change\", featureidkey = \"properties.BoroCTLbl\", \n",
    "                    locations = \"BoroCTLbl\", projection = \"albers usa\",\n",
    "                   color_continuous_scale=\"Inferno_r\")\n",
    "fig.update_geos(fitbounds = \"locations\", visible = False)\n",
    "fig.update_layout(margin={\"r\":0,\"t\":100,\"l\":0,\"b\":0},\n",
    "                 title_text = \"Percentage Difference in Households Without Internet\")\n",
    "fig.show()"
   ]
  },
  {
   "cell_type": "code",
   "execution_count": null,
   "metadata": {},
   "outputs": [],
   "source": [
    "fig = px.choropleth(total_subscription_no_outliers, geojson=census_tracts_json, color = \"total_change\", featureidkey = \"properties.BoroCTLbl\", \n",
    "                    locations = \"BoroCTLbl\", projection = \"albers usa\",\n",
    "                   color_continuous_scale=\"Inferno\")\n",
    "fig.update_geos(fitbounds = \"locations\", visible = False)\n",
    "fig.update_layout(margin={\"r\":0,\"t\":100,\"l\":0,\"b\":0},\n",
    "                 title_text = \"Percentage Difference in Total Number of Households\")\n",
    "fig.show()"
   ]
  },
  {
   "cell_type": "markdown",
   "metadata": {},
   "source": [
    "### FCC Data from 2017/2018"
   ]
  },
  {
   "cell_type": "code",
   "execution_count": null,
   "metadata": {},
   "outputs": [],
   "source": [
    "# FCC data cleaning\n",
    "fcc477_17 = pd.read_csv(\"./FCC_477/NY-Fixed-Jun2017-v3.csv\", encoding = \"ISO-8859-1\")\n",
    "fcc477_17.rename(columns={'Census Block FIPS Code':'FIPS'}, inplace=True)\n",
    "# get FIPS 11: state + county + tract\n",
    "fcc477_17[\"FIPS\"] = fcc477_17[\"FIPS\"].astype(str)\n",
    "fcc477_17[\"FIPS_11\"] = fcc477_17[\"FIPS\"].str[:11]\n",
    "# filter for unique providers in each tract that provide broadband service\n",
    "fcc477_17_broadband = fcc477_17[(fcc477_17[\"Max Advertised Downstream Speed (mbps)\"]>=25.0)&(fcc477_17[\"Max Advertised Upstream Speed (mbps)\"]>=3.0)]\n",
    "# prepare for merging\n",
    "fcc477_17_broadband_grouped = fcc477_17_broadband.groupby([\"FIPS_11\", \"boro\"]).agg(\n",
    "    num_providers = pd.NamedAgg(column = \"Provider Name\", aggfunc = lambda x: len(x.unique())))\n",
    "fcc477_17_broadband_grouped.reset_index(inplace=True)\n",
    "fcc477_17_broadband_grouped[\"ct2010\"] = fcc477_17_broadband_grouped[\"FIPS_11\"].str[5:]\n",
    "fcc477_17_broadband_grouped[\"boro\"] = fcc477_17_broadband_grouped[\"boro\"].replace({\"bronx\": \"Bronx\",\n",
    "                                                                    \"brooklyn\": \"Brooklyn\",\n",
    "                                                                    \"manhattan\": \"Manhattan\",\n",
    "                                                                    \"staten island\": \"Staten Island\",\n",
    "                                                                    \"queens\": \"Queens\"})\n",
    "# merge\n",
    "fcc477_17_broadband_grouped_merged = fcc477_17_broadband_grouped.merge(census_tracts.loc[:,[\"boro_name\", \"ct2010\", \"ctlabel\"]], right_on = [\"ct2010\", \"boro_name\"], left_on = [\"ct2010\", \"boro\"])\n",
    "# new common column\n",
    "fcc477_17_broadband_grouped_merged[\"BoroCTLbl\"] = fcc477_17_broadband_grouped_merged[\"boro_name\"] + \" \" + fcc477_17_broadband_grouped_merged[\"ctlabel\"].astype(str)\n",
    "# select only for those columns\n",
    "fcc477_17_broadband_grouped_merged = fcc477_17_broadband_grouped_merged[[\"BoroCTLbl\", \"num_providers\"]]\n",
    "\n",
    "# comparing the two\n",
    "fcc477_1718_difference = fcc477_17_broadband_grouped_merged.merge(fcc477_18_broadband_grouped_merged, left_on = \"BoroCTLbl\", right_on = \"BoroCTLbl\", suffixes = (\"_17\", \"_18\") )\n",
    "fcc477_1718_difference = fcc477_1718_difference.assign(\n",
    "    difference = lambda x: x[\"num_providers_18\"] - x[\"num_providers_17\"])"
   ]
  },
  {
   "cell_type": "markdown",
   "metadata": {},
   "source": [
    "Evidently, pretty much all of the increase in ISPs are concentrated in Manhattan whereas there was consolidation of the market in northern and western Brooklyn."
   ]
  },
  {
   "cell_type": "code",
   "execution_count": null,
   "metadata": {},
   "outputs": [],
   "source": [
    "colorscale = ['#ca0020','#f4a582','#f7f7f7','#92c5de','#0571b0']\n",
    "fig = px.choropleth(fcc477_1718_difference, geojson=census_tracts_json, color = \"difference\", featureidkey = \"properties.BoroCTLbl\", \n",
    "                    locations = \"BoroCTLbl\", projection = \"albers usa\",\n",
    "                   color_continuous_scale = colorscale)\n",
    "fig.update_geos(fitbounds = \"locations\", visible = False)\n",
    "fig.update_layout(margin={\"r\":0,\"t\":100,\"l\":0,\"b\":0},\n",
    "                 title_text = \"Difference in Number of ISPs\")\n",
    "fig.show()"
   ]
  },
  {
   "cell_type": "code",
   "execution_count": null,
   "metadata": {},
   "outputs": [],
   "source": [
    "isp_subscriber = fcc477_1718_difference.merge(subscription_merged.loc[:, [\"BoroCTLbl\", \"wired_hh_change\"]], on = \"BoroCTLbl\")"
   ]
  },
  {
   "cell_type": "code",
   "execution_count": null,
   "metadata": {},
   "outputs": [],
   "source": [
    "isp_subscriber[\"difference\"] = isp_subscriber[\"difference\"].astype(float)\n",
    "isp_subscriber[\"wired_hh_change\"] = isp_subscriber[\"wired_hh_change\"].astype(float)\n",
    "isp_subscriber[\"num_providers_18_str\"] = isp_subscriber[\"num_providers_18\"].astype(str)\n",
    "isp_subscriber = isp_subscriber.merge(census_tracts.loc[:, [\"BoroCTLbl\", \"boro_name\"]], on = \"BoroCTLbl\")"
   ]
  },
  {
   "cell_type": "markdown",
   "metadata": {},
   "source": [
    "Funnily enough, changing the number of ISPs does not appear to have any impact of household wired broadband subscription. The number of ISPs shown on"
   ]
  },
  {
   "cell_type": "code",
   "execution_count": null,
   "metadata": {},
   "outputs": [],
   "source": [
    "sns.catplot(x=\"difference\", y=\"wired_hh_change\", hue=\"num_providers_18_str\", col=\"boro_name\",\n",
    "            data=isp_subscriber, height=5, col_wrap = 3, alpha = 0.8, kind = \"swarm\")"
   ]
  }
 ],
 "metadata": {
  "kernelspec": {
   "display_name": "Python 3",
   "language": "python",
   "name": "python3"
  },
  "language_info": {
   "codemirror_mode": {
    "name": "ipython",
    "version": 3
   },
   "file_extension": ".py",
   "mimetype": "text/x-python",
   "name": "python",
   "nbconvert_exporter": "python",
   "pygments_lexer": "ipython3",
   "version": "3.7.6"
  },
  "varInspector": {
   "cols": {
    "lenName": 16,
    "lenType": 16,
    "lenVar": 40
   },
   "kernels_config": {
    "python": {
     "delete_cmd_postfix": "",
     "delete_cmd_prefix": "del ",
     "library": "var_list.py",
     "varRefreshCmd": "print(var_dic_list())"
    },
    "r": {
     "delete_cmd_postfix": ") ",
     "delete_cmd_prefix": "rm(",
     "library": "var_list.r",
     "varRefreshCmd": "cat(var_dic_list()) "
    }
   },
   "types_to_exclude": [
    "module",
    "function",
    "builtin_function_or_method",
    "instance",
    "_Feature"
   ],
   "window_display": true
  }
 },
 "nbformat": 4,
 "nbformat_minor": 4
}
