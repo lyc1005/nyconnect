{
 "cells": [
  {
   "cell_type": "markdown",
   "metadata": {},
   "source": [
    "[Methodology](http://darribas.org/gds_scipy16/ipynb_md/08_spatial_regression.html) adapted from terrific notebooks published by Sergio Rey and Arribas and their PySal [notebooks](http://pysal.org/notebooks/lib/libpysal/weights.html) page."
   ]
  },
  {
   "cell_type": "code",
   "execution_count": 176,
   "metadata": {},
   "outputs": [],
   "source": [
    "import seaborn as sns\n",
    "import matplotlib.pyplot as plt\n",
    "import numpy as np\n",
    "import pandas as pd\n",
    "import geopandas as gpd\n",
    "import os as os\n",
    "import libpysal as lps\n",
    "import spreg\n",
    "from libpysal.weights import Queen, KNN\n",
    "import esda\n",
    "np.random.seed(1728)"
   ]
  },
  {
   "cell_type": "code",
   "execution_count": 177,
   "metadata": {},
   "outputs": [],
   "source": [
    "# Adjust directory accordingly\n",
    "os.chdir('C:\\\\Users\\\\wesch\\\\OneDrive\\\\20 Spring Summer Urban Science Intensive\\\\nyconnect\\\\data')"
   ]
  },
  {
   "cell_type": "code",
   "execution_count": 184,
   "metadata": {},
   "outputs": [],
   "source": [
    "# load datasets\n",
    "subscription = pd.read_csv(\"./ACS_Internet_Subscription/subscription_acs_2018.csv\")\n",
    "income = pd.read_csv(\"./Demographics/Income/household_income_acs2018.csv\")\n",
    "race = pd.read_csv(\"./Demographics/Basic Count/tract_race_acs2018.csv\")\n",
    "census_tracts = gpd.read_file(\"./2010_Census_Tracts/geo_export_0ca1f0a1-f242-497a-9f86-91b88fc18647.shp\")\n",
    "mobile_rooftop = pd.read_csv(\"./Cellular_Towers/Mobile_Rooftop_Installations_CensusTract_2018.csv\")"
   ]
  },
  {
   "cell_type": "code",
   "execution_count": 185,
   "metadata": {},
   "outputs": [],
   "source": [
    "# FCC data cleaning\n",
    "# 2-digit code indicating the Technology of Transmission used to offer broadband service. \n",
    "def tech_code_translator(x):\n",
    "    # ADSL, Cable, Fiber, Fixed Wireless, Satellite, Other\n",
    "    if x in ['10', '11', '12', '20', '30']:\n",
    "        return 'ADSL'\n",
    "    if x in ['40', '41', '42', '43']:\n",
    "        return 'Cable'\n",
    "    if x == '50':\n",
    "        return 'Fiber'\n",
    "    if x == '60':\n",
    "        return 'Satellite'\n",
    "    if x == '70':\n",
    "        return 'Fixed Wireless'\n",
    "    return 'Other'\n",
    "converters = {'tract': lambda x: str(x), \n",
    "              'block': lambda x: str(x),\n",
    "              'Technology Code': lambda x: tech_code_translator(x)\n",
    "             }\n",
    "\n",
    "fcc477 = pd.read_csv(\"Fixed_Broadband_Deployment_Data__Jun__2019_Status_V1.csv\", converters = converters, encoding = \"ISO-8859-1\")\n",
    "fcc477.rename(columns={'Census Block FIPS Code':'FIPS Code'}, inplace=True)\n",
    "# get FIPS 11: state + county + tract\n",
    "fcc477[\"FIPS Code\"] = fcc477[\"FIPS Code\"].astype(str)\n",
    "fcc477[\"FIPS_11\"] = fcc477[\"FIPS Code\"].str[:11]\n",
    "# filter for unique providers in each tract that provide broadband service\n",
    "fcc477_broadband = fcc477[(fcc477[\"Max Advertised Downstream Speed (mbps)\"]>=25.0)&(fcc477[\"Max Advertised Upstream Speed (mbps)\"]>=3.0)]\n",
    "# prepare for merging\n",
    "fcc477_broadband_grouped = fcc477_broadband.groupby([\"FIPS_11\", \"boro\"]).agg(\n",
    "    num_providers = pd.NamedAgg(column = \"Provider Name\", aggfunc = lambda x: len(x.unique())))\n",
    "fcc477_broadband_grouped.reset_index(inplace=True)\n",
    "fcc477_broadband_grouped[\"ct2010\"] = fcc477_broadband_grouped[\"FIPS_11\"].str[5:]\n",
    "fcc477_broadband_grouped[\"boro\"] = fcc477_broadband_grouped[\"boro\"].replace({\"bronx\": \"Bronx\",\n",
    "                                                                    \"brooklyn\": \"Brooklyn\",\n",
    "                                                                    \"manhattan\": \"Manhattan\",\n",
    "                                                                    \"staten island\": \"Staten Island\",\n",
    "                                                                    \"queens\": \"Queens\"})\n",
    "# merge\n",
    "fcc477_broadband_grouped_merged = fcc477_broadband_grouped.merge(census_tracts.loc[:,[\"boro_name\", \"ct2010\", \"ctlabel\"]], right_on = [\"ct2010\", \"boro_name\"], left_on = [\"ct2010\", \"boro\"])\n",
    "# new common column\n",
    "fcc477_broadband_grouped_merged[\"BoroCTLbl\"] = fcc477_broadband_grouped_merged[\"boro_name\"] + \" \" + fcc477_broadband_grouped_merged[\"ctlabel\"].astype(str)\n",
    "# select only for those columns\n",
    "fcc477_broadband_grouped_merged = fcc477_broadband_grouped_merged[[\"BoroCTLbl\", \"num_providers\"]]"
   ]
  },
  {
   "cell_type": "code",
   "execution_count": 186,
   "metadata": {},
   "outputs": [],
   "source": [
    "# data cleaning \n",
    "## Calculating race as a percentage\n",
    "race = race.assign(White = lambda x: x[\"White\"]/x[\"Total\"]*100,\n",
    "                  Black = lambda x: x[\"Black\"]/x[\"Total\"]*100,\n",
    "                  Native = lambda x: x[\"Native\"]/x[\"Total\"]*100,\n",
    "                  Asian = lambda x: x[\"Asian\"]/x[\"Total\"]*100,\n",
    "                  PacificIslander = lambda x: x[\"Pacific Islander\"]/x[\"Total\"]*100,\n",
    "                  Other = lambda x: x[\"Other\"]/x[\"Total\"]*100,\n",
    "                  TwoOrMore = lambda x: x[\"Two or More\"]/x[\"Total\"]*100)\n",
    "race = race[['city', 'tract', 'county', \"BoroCTLbl\", 'Total', 'White', 'Black', 'Native', 'Asian', \n",
    "                'PacificIslander', 'Other','TwoOrMore']]\n",
    "## Calculating subscription as a percentage\n",
    "subscription = subscription.assign(Mobile_Dependent = lambda x: x[\"Mobile_Dependent\"]/x[\"Total\"]*100,\n",
    "                                   Wired_Broadband = lambda x: x[\"Wired_Broadband\"]/x[\"Total\"]*100,\n",
    "                                   No_Internet = lambda x: x[\"No_Internet\"]/x[\"Total\"]*100)\n",
    "## filling NAs\n",
    "race = race.fillna(0)\n",
    "income = income.fillna(0)\n",
    "subscription = subscription.fillna(0)\n",
    "## returning centroid of each census tract\n",
    "census_tracts = census_tracts.assign(longitude = lambda x: x.geometry.centroid.x,\n",
    "                                    latitude = lambda x: x.geometry.centroid.y)\n",
    "## rename column of mobile rooftop\n",
    "mobile_rooftop = mobile_rooftop.rename(columns={\"NUMPOINTS\":\"num_rooftop_cells\"})\n",
    "## creating a new dataframe with all the variables \n",
    "all_vars = income.merge(race, on = [\"city\", \"tract\", \"county\", \"BoroCTLbl\"])\n",
    "all_vars = all_vars.merge(subscription, on = [\"city\", \"tract\", \"county\", \"BoroCTLbl\"])\n",
    "all_vars = all_vars.merge(census_tracts.loc[:, [\"BoroCTLbl\", \"ntacode\", \"geometry\"]], on = [\"BoroCTLbl\"])\n",
    "all_vars = all_vars.merge(fcc477_broadband_grouped_merged, on = [\"BoroCTLbl\"])\n",
    "all_vars = all_vars.merge(mobile_rooftop.loc[:,[\"num_rooftop_cells\",\"BoroCTLbl\"]], on = [\"BoroCTLbl\"])\n",
    "## rename variables \n",
    "renamed_cols = {\n",
    "    'Total_x': 'PopulationCount',\n",
    "    'Total_y' : 'HouseholdCount'}\n",
    "all_vars.rename(columns=renamed_cols, inplace=True)\n",
    "## dropping NAs\n",
    "all_vars = all_vars.dropna()"
   ]
  },
  {
   "cell_type": "code",
   "execution_count": 187,
   "metadata": {},
   "outputs": [
    {
     "name": "stdout",
     "output_type": "stream",
     "text": [
      "('WARNING: ', 338, ' is an island (no neighbors)')\n",
      "('WARNING: ', 1099, ' is an island (no neighbors)')\n",
      "('WARNING: ', 2164, ' is an island (no neighbors)')\n"
     ]
    },
    {
     "name": "stderr",
     "output_type": "stream",
     "text": [
      "c:\\users\\wesch\\appdata\\local\\programs\\python\\python37\\lib\\site-packages\\libpysal\\weights\\weights.py:167: UserWarning: The weights matrix is not fully connected: \n",
      " There are 6 disconnected components.\n",
      " There are 3 islands with ids: 338, 1099, 2164.\n",
      "  warnings.warn(message)\n"
     ]
    }
   ],
   "source": [
    "# Creating spatial weights matrix\n",
    "weights = Queen.from_dataframe(all_vars)\n",
    "weights.transform = \"r\""
   ]
  },
  {
   "cell_type": "markdown",
   "metadata": {},
   "source": [
    "#### Local Spatial Autocorrelation and Local Moran's I Statistic"
   ]
  },
  {
   "cell_type": "code",
   "execution_count": null,
   "metadata": {},
   "outputs": [],
   "source": [
    "def moran_scatter_map(all_vars_df, dep_var, weights, titles, census_tracts = census_tracts):\n",
    "    # Creating y_var\n",
    "    y = all_vars_df[dep_var]\n",
    "    # Creating a lag variable \n",
    "    lag_var = lps.weights.lag_spatial(weights, y)\n",
    "    # lm for moran and plotting\n",
    "    b, a  = np.polyfit(y, lag_var, 1)\n",
    "    f, ax = plt.subplots(1, figsize=(9,9))\n",
    "\n",
    "    plt.plot(y, lag_var, \".\", color = \"#fb8072\")\n",
    "\n",
    "    plt.vlines(y.mean(), lag_var.min(),lag_var.max(), linestyle = \"--\")\n",
    "    plt.hlines(lag_var.mean(), y.min(), y.max(), linestyle = \"--\")\n",
    "\n",
    "    # plot line of best fit using global I as slope\n",
    "    plt.plot(y, a+b*y, \"#8da0cb\")\n",
    "    plt.title(\"Moran Scatterplot\")\n",
    "    plt.ylabel(\"Spatial Lag of \" + titles)\n",
    "    plt.xlabel(titles)\n",
    "    plt.show()\n",
    "    \n",
    "    #calculating local moran's i \n",
    "    li = esda.moran.Moran_Local(y, weights)\n",
    "\n",
    "    # classifying and quadrants (xy)\n",
    "    sig = 1 * (li.p_sim < 0.05)\n",
    "    highhigh = 1* (sig * li.q == 1)\n",
    "    lowlow = 3* (sig * li.q == 3)\n",
    "    lowhigh = 2* (sig * li.q == 2)\n",
    "    highlow = 4* (sig * li.q == 4)\n",
    "\n",
    "    spots = highhigh + lowlow + lowhigh + highlow\n",
    "    spots_labels = [\"0 Not Sig\", \"1 High-High\", \"2 Low-High\", \"3 Low-Low\", \"High-Low\"]\n",
    "    labels = [spots_labels[i] for i in spots]\n",
    "    \n",
    "    # plotting map\n",
    "    from matplotlib import colors\n",
    "    hmap = colors.ListedColormap([\"#d9d9d9\", \"#fb8072\", \"#8dd3c7\", \"#80b1d3\", \"#bebada\"])\n",
    "    f, ax = plt.subplots(1, figsize=(9,9))\n",
    "    relevant_tracts = all_vars_df.loc[:,[\"geometry\"]]\n",
    "    relevant_tracts = gpd.GeoDataFrame(relevant_tracts, crs = census_tracts.crs)\n",
    "    relevant_tracts.assign(cl=labels).plot(column = \"cl\", categorical = True, k = 2, cmap = hmap, linewidth = 0.1, \n",
    "                                           ax = ax, edgecolor = \"white\", legend = True)\n",
    "    ax.set_axis_off()\n",
    "    ax.set_title(\"Spatial Association for \" + titles)\n",
    "    plt.show()"
   ]
  },
  {
   "cell_type": "code",
   "execution_count": null,
   "metadata": {
    "scrolled": true
   },
   "outputs": [],
   "source": [
    "moran_scatter_map(all_vars, \"Wired_Broadband\", weights, \"Wired Broadband Subscription\")"
   ]
  },
  {
   "cell_type": "markdown",
   "metadata": {},
   "source": [
    "**Moran's I Scatterplot**:  \n",
    "We are interested in Quadrants 1 and 3, the NE and SW respectively. If there is no spatial autocorrelation, we would not see such a strong positive correlation. The two quadrants represent clusters of contiguous Census Tracts with similar levels of home wired broadband subscription.  \n",
    "  \n",
    "The two dashed lines are the means of both axes. Values to below and above this are *low* and *high* respectively.   \n",
    "  \n",
    "**Spatial Association Map**:  \n",
    "Here we can see a map of similarly valued clusters."
   ]
  },
  {
   "cell_type": "code",
   "execution_count": null,
   "metadata": {},
   "outputs": [],
   "source": [
    "moran_scatter_map(all_vars, \"Mobile_Dependent\", weights, \"Mobile Broadband Dependence\")"
   ]
  },
  {
   "cell_type": "markdown",
   "metadata": {},
   "source": [
    "Repeating this analysis for mobile broadband dependence, we can see that a not entirely dissimilar pattern emerge. Clusters of census tracts with high mobile broadband dependence tend to be close to the areas wih low wired broadband subscription rates. But it is not a perfect match, suggesting that mobile broadband is not a perfect substitution."
   ]
  },
  {
   "cell_type": "code",
   "execution_count": null,
   "metadata": {},
   "outputs": [],
   "source": [
    "moran_scatter_map(all_vars, \"No_Internet\", weights, \"Households w/o Internet Access\")"
   ]
  },
  {
   "cell_type": "markdown",
   "metadata": {},
   "source": [
    "This is a much more perfect match with *wired broadband subscription* than *mobile broadband dependence*. Clusters with high levels of households without internet access tend to be found around LES, Coney Island, South Williamsburg, Flatbush, Brownsville, East Harlem, and much of southern Bronx. Uncoincidentally, these tend to be areas with lower incomes and more racial minorities."
   ]
  },
  {
   "cell_type": "markdown",
   "metadata": {},
   "source": [
    "#### Spatial Regression for Wired Broadband"
   ]
  },
  {
   "cell_type": "markdown",
   "metadata": {},
   "source": [
    "Why are these spatial regressions special? They take into account spatial fixed effects. They do not assume that the dependent variable behaves uniformly acrss spacewith systematic effects. In so doing, we introduce econometrically the notion of spatial heterogeneity by allowing the constant term (regime) to vary geographically."
   ]
  },
  {
   "cell_type": "code",
   "execution_count": 204,
   "metadata": {},
   "outputs": [],
   "source": [
    "y = all_vars.loc[:,[\"Wired_Broadband\"]]\n",
    "indep_vars = all_vars[['Households (HH) Count',\n",
    "       'HH 0-10k', 'HH 10k-15k', 'HH 15k-25k', 'HH 25k-35k', 'HH 35k-50k',\n",
    "       'HH 50k-75k', 'HH 75k-100k', 'HH 100k-150k', 'HH 150k-200k',\n",
    "       'HH 200k-UP', 'PopulationCount', 'White', 'Black', 'Native', 'Asian',\n",
    "       'PacificIslander', 'Other', 'TwoOrMore', 'num_providers']]"
   ]
  },
  {
   "cell_type": "code",
   "execution_count": 205,
   "metadata": {},
   "outputs": [],
   "source": [
    "regimes = list(all_vars[\"county\"])"
   ]
  },
  {
   "cell_type": "code",
   "execution_count": 206,
   "metadata": {},
   "outputs": [],
   "source": [
    "m1 = spreg.OLS_Regimes(y = np.array(y), x = np.array(indep_vars), regimes = regimes,\n",
    "                       w = weights, spat_diag = True,\n",
    "                       name_x = indep_vars.columns.tolist(), name_y = \"WiredBroadband_Pct\")"
   ]
  },
  {
   "cell_type": "code",
   "execution_count": null,
   "metadata": {},
   "outputs": [],
   "source": [
    "print(m1.summary)"
   ]
  },
  {
   "cell_type": "code",
   "execution_count": null,
   "metadata": {},
   "outputs": [],
   "source": [
    "indep_vars.columns"
   ]
  },
  {
   "cell_type": "markdown",
   "metadata": {},
   "source": [
    "From the above, we can conclude that race is not statistically significant in testing for wired broadband subscription. Income is a much better predictor. Interesting enough, the number of providers is **NOT** significant either.  \n",
    "At the bottom of the summary object are four statistics for spatial dependence. I tested whether the residuals of the regression are spatially correlated, against the null of a random distribution over a designated space, NYC's census tracts in this case. Since, the tests reject the null hypothesis that error terms are randomly distributed in space, the normal OLS assumption of randomness is violated. Thus, OLS on its own is not particularly well suited. "
   ]
  },
  {
   "cell_type": "code",
   "execution_count": 207,
   "metadata": {},
   "outputs": [],
   "source": [
    "m2 = spreg.GM_Lag_Regimes(y = np.array(y), x = np.array(indep_vars), regimes = regimes,\n",
    "                  w = weights,spat_diag = True,\n",
    "                  name_x = indep_vars.columns.tolist(), name_y = \"WiredBroadband_Pct\")"
   ]
  },
  {
   "cell_type": "code",
   "execution_count": null,
   "metadata": {},
   "outputs": [],
   "source": [
    "print(m2.summary)"
   ]
  },
  {
   "cell_type": "markdown",
   "metadata": {},
   "source": [
    "The results are roughly similar, and we can see that the spatially lagged variable is significant. What this means is that there is some form of spatial interaction between census tracts that causes some autocorrelation in wired broadband subscription. Even if we are not entirely convinced that a regression model can predict the rates of household broadband subscription, we want to see whether a lagged model can reduce MSE. Interestingly enough, even though the number of providers is not always significant, there is still some evidence of omitted variable bias. MSE was higher in the regressions without the number of providers. "
   ]
  },
  {
   "cell_type": "markdown",
   "metadata": {},
   "source": [
    "As a test, we can see what happens if we do not take into account fixed effects by measuring the differences in MSEs. Clearly, taking into account fixed effects at the borough level can reduce the mean squared errors very significantly."
   ]
  },
  {
   "cell_type": "code",
   "execution_count": 208,
   "metadata": {},
   "outputs": [],
   "source": [
    "m1_2 = spreg.OLS(y = np.array(y), x = np.array(indep_vars),\n",
    "                       w = weights, spat_diag = True,\n",
    "                       name_x = indep_vars.columns.tolist(), name_y = \"WiredBroadband_Pct\")\n",
    "m2_2 = spreg.GM_Lag(y = np.array(y), x = np.array(indep_vars),\n",
    "                       w = weights, spat_diag = True,\n",
    "                       name_x = indep_vars.columns.tolist(), name_y = \"WiredBroadband_Pct\")"
   ]
  },
  {
   "cell_type": "code",
   "execution_count": 209,
   "metadata": {},
   "outputs": [
    {
     "data": {
      "text/plain": [
       "F.E. Lag    45.740479\n",
       "F.E. OLS    49.004079\n",
       "Lag         60.092137\n",
       "OLS         62.871042\n",
       "dtype: float64"
      ]
     },
     "execution_count": 209,
     "metadata": {},
     "output_type": "execute_result"
    }
   ],
   "source": [
    "from sklearn.metrics import mean_squared_error as mse\n",
    "\n",
    "mses = pd.Series({'F.E. OLS': mse(y, m1.predy.flatten()),\n",
    "                'F.E. Lag': mse(y, m2.predy.flatten()),\n",
    "                'OLS': mse(y, m1_2.predy.flatten()),\n",
    "                'Lag': mse(y, m2_2.predy.flatten())})\n",
    "mses.sort_values()"
   ]
  },
  {
   "cell_type": "markdown",
   "metadata": {},
   "source": [
    "#### Spatial Regression for Mobile Broadband"
   ]
  },
  {
   "cell_type": "code",
   "execution_count": 210,
   "metadata": {
    "collapsed": true
   },
   "outputs": [
    {
     "name": "stdout",
     "output_type": "stream",
     "text": [
      "REGRESSION\n",
      "----------\n",
      "SUMMARY OF OUTPUT: SPATIAL TWO STAGE LEAST SQUARES - REGIMES\n",
      "------------------------------------------------------------\n",
      "Data set            :     unknown\n",
      "Weights matrix      :     unknown\n",
      "Dependent Variable  :MobileBroadbandDependence_Pct                Number of Observations:        2165\n",
      "Mean dependent var  :      7.3482                Number of Variables   :         111\n",
      "S.D. dependent var  :      5.0429                Degrees of Freedom    :        2054\n",
      "Pseudo R-squared    :      0.4564\n",
      "Spatial Pseudo R-squared:  0.3464\n",
      "\n",
      "White Standard Errors\n",
      "------------------------------------------------------------------------------------\n",
      "            Variable     Coefficient       Std.Error     z-Statistic     Probability\n",
      "------------------------------------------------------------------------------------\n",
      "      Bronx_CONSTANT     -13.0229073       4.4272242      -2.9415514       0.0032657\n",
      "Bronx_Households (HH) Count      -0.0016507       0.0007513      -2.1971789       0.0280077\n",
      "      Bronx_HH 0-10k       0.0941722       0.0475777       1.9793354       0.0477783\n",
      "    Bronx_HH 10k-15k      -0.0386911       0.0278851      -1.3875189       0.1652836\n",
      "    Bronx_HH 15k-25k       0.1207622       0.0439540       2.7474665       0.0060058\n",
      "    Bronx_HH 25k-35k      -0.0126001       0.0573424      -0.2197351       0.8260775\n",
      "    Bronx_HH 35k-50k       0.1262691       0.0549908       2.2961854       0.0216653\n",
      "    Bronx_HH 50k-75k       0.0647307       0.0457519       1.4148183       0.1571218\n",
      "   Bronx_HH 75k-100k       0.1293917       0.0562892       2.2986963       0.0215222\n",
      "  Bronx_HH 100k-150k      -0.0189260       0.0438746      -0.4313647       0.6662032\n",
      "  Bronx_HH 150k-200k       0.0028846       0.0793662       0.0363456       0.9710068\n",
      "    Bronx_HH 200k-UP       0.1295637       0.0241240       5.3707329       0.0000001\n",
      "Bronx_PopulationCount       0.0005983       0.0003125       1.9144483       0.0555629\n",
      "         Bronx_White       0.0398064       0.0176479       2.2555872       0.0240965\n",
      "         Bronx_Black       0.0238661       0.0211403       1.1289366       0.2589246\n",
      "        Bronx_Native       0.0307316       0.1341695       0.2290506       0.8188296\n",
      "         Bronx_Asian       0.0798864       0.0557910       1.4318865       0.1521763\n",
      "Bronx_PacificIslander      -0.0255178       0.4540784      -0.0561970       0.9551849\n",
      "         Bronx_Other       0.0491555       0.0264567       1.8579635       0.0631742\n",
      "     Bronx_TwoOrMore      -0.0813365       0.1017999      -0.7989846       0.4242994\n",
      " Bronx_num_providers       1.7762617       1.1074173       1.6039678       0.1087212\n",
      "Bronx_num_rooftop_cells      -0.0702443       0.0615681      -1.1409207       0.2539029\n",
      "   Brooklyn_CONSTANT      -3.6905648       1.0811191      -3.4136522       0.0006410\n",
      "Brooklyn_Households (HH) Count       0.0001940       0.0005524       0.3512919       0.7253694\n",
      "   Brooklyn_HH 0-10k       0.1267651       0.0272591       4.6503750       0.0000033\n",
      " Brooklyn_HH 10k-15k       0.0166368       0.0335958       0.4952041       0.6204561\n",
      " Brooklyn_HH 15k-25k       0.0400526       0.0311997       1.2837489       0.1992298\n",
      " Brooklyn_HH 25k-35k       0.1489350       0.0325748       4.5720948       0.0000048\n",
      " Brooklyn_HH 35k-50k       0.0422476       0.0314832       1.3419075       0.1796260\n",
      " Brooklyn_HH 50k-75k       0.0964855       0.0257029       3.7538727       0.0001741\n",
      "Brooklyn_HH 75k-100k       0.0789717       0.0322404       2.4494657       0.0143068\n",
      "Brooklyn_HH 100k-150k       0.0970500       0.0279553       3.4716170       0.0005173\n",
      "Brooklyn_HH 150k-200k      -0.0001999       0.0370594      -0.0053953       0.9956952\n",
      " Brooklyn_HH 200k-UP       0.0345332       0.0230120       1.5006590       0.1334438\n",
      "Brooklyn_PopulationCount       0.0000261       0.0002299       0.1133249       0.9097729\n",
      "      Brooklyn_White      -0.0134318       0.0096193      -1.3963335       0.1626141\n",
      "      Brooklyn_Black      -0.0226372       0.0095429      -2.3721564       0.0176846\n",
      "     Brooklyn_Native       0.0988822       0.1862530       0.5309027       0.5954862\n",
      "      Brooklyn_Asian      -0.0355998       0.0137681      -2.5856687       0.0097190\n",
      "Brooklyn_PacificIslander      -0.2095655       0.3844113      -0.5451596       0.5856438\n",
      "      Brooklyn_Other       0.0469777       0.0227677       2.0633470       0.0390797\n",
      "  Brooklyn_TwoOrMore       0.0323548       0.0623592       0.5188452       0.6038687\n",
      "Brooklyn_num_providers      -0.0110229       0.1794844      -0.0614143       0.9510293\n",
      "Brooklyn_num_rooftop_cells      -0.0066371       0.0749950      -0.0885003       0.9294791\n",
      "  Manhattan_CONSTANT      -3.0435808       1.3142400      -2.3158485       0.0205665\n",
      "Manhattan_Households (HH) Count      -0.0003089       0.0003607      -0.8564483       0.3917499\n",
      "  Manhattan_HH 0-10k       0.0253702       0.0401847       0.6313397       0.5278184\n",
      "Manhattan_HH 10k-15k       0.0789667       0.0472525       1.6711640       0.0946893\n",
      "Manhattan_HH 15k-25k       0.1536245       0.0507206       3.0288371       0.0024550\n",
      "Manhattan_HH 25k-35k       0.0362998       0.0759021       0.4782455       0.6324755\n",
      "Manhattan_HH 35k-50k       0.1601389       0.0866204       1.8487433       0.0644949\n",
      "Manhattan_HH 50k-75k      -0.0217393       0.0426622      -0.5095693       0.6103533\n",
      "Manhattan_HH 75k-100k       0.1424777       0.0510161       2.7928001       0.0052254\n",
      "Manhattan_HH 100k-150k       0.0102875       0.0239083       0.4302878       0.6669863\n",
      "Manhattan_HH 150k-200k       0.1132826       0.0437689       2.5881969       0.0096480\n",
      "Manhattan_HH 200k-UP       0.0562304       0.0228160       2.4645161       0.0137198\n",
      "Manhattan_PopulationCount       0.0001145       0.0001800       0.6363890       0.5245229\n",
      "     Manhattan_White      -0.0101480       0.0188313      -0.5388892       0.5899633\n",
      "     Manhattan_Black      -0.0136437       0.0150521      -0.9064348       0.3647058\n",
      "    Manhattan_Native      -0.1303611       0.0810645      -1.6081168       0.1078096\n",
      "     Manhattan_Asian      -0.0491282       0.0184819      -2.6581787       0.0078564\n",
      "Manhattan_PacificIslander      -0.5008819       0.4894934      -1.0232659       0.3061821\n",
      "     Manhattan_Other       0.0324003       0.0327910       0.9880856       0.3231107\n",
      " Manhattan_TwoOrMore      -0.0569533       0.0488064      -1.1669219       0.2432419\n",
      "Manhattan_num_providers       0.0796796       0.1646492       0.4839355       0.6284317\n",
      "Manhattan_num_rooftop_cells      -0.0057251       0.0160450      -0.3568147       0.7212305\n",
      "     Queens_CONSTANT      -4.5037861       1.2539545      -3.5916663       0.0003286\n",
      "Queens_Households (HH) Count       0.0000642       0.0007154       0.0898070       0.9284406\n",
      "     Queens_HH 0-10k       0.0586086       0.0768324       0.7628105       0.4455764\n",
      "   Queens_HH 10k-15k       0.2253294       0.1269499       1.7749476       0.0759065\n",
      "   Queens_HH 15k-25k       0.1347336       0.0568089       2.3716989       0.0177065\n",
      "   Queens_HH 25k-35k       0.0387399       0.0677074       0.5721662       0.5672094\n",
      "   Queens_HH 35k-50k       0.0771207       0.0514385       1.4992780       0.1338015\n",
      "   Queens_HH 50k-75k       0.1320661       0.0471453       2.8012552       0.0050904\n",
      "  Queens_HH 75k-100k       0.0932145       0.0519056       1.7958482       0.0725187\n",
      " Queens_HH 100k-150k       0.1005137       0.0483682       2.0780958       0.0377005\n",
      " Queens_HH 150k-200k       0.1222577       0.0548350       2.2295551       0.0257770\n",
      "   Queens_HH 200k-UP       0.0400016       0.0459614       0.8703302       0.3841200\n",
      "Queens_PopulationCount      -0.0001407       0.0002614      -0.5383248       0.5903528\n",
      "        Queens_White      -0.0427168       0.0329679      -1.2957090       0.1950758\n",
      "        Queens_Black       0.0098648       0.0351207       0.2808843       0.7787992\n",
      "       Queens_Native      -0.0120234       0.2377233      -0.0505771       0.9596625\n",
      "        Queens_Asian      -0.0110564       0.0348366      -0.3173780       0.7509568\n",
      "Queens_PacificIslander       0.1267189       0.5549295       0.2283514       0.8193731\n",
      "        Queens_Other      -0.0097972       0.0432405      -0.2265755       0.8207538\n",
      "    Queens_TwoOrMore      -0.1444638       0.0851431      -1.6967178       0.0897500\n",
      "Queens_num_providers       0.1201214       0.2432027       0.4939148       0.6213663\n",
      "Queens_num_rooftop_cells       0.0841716       0.0809832       1.0393714       0.2986321\n",
      "Staten Island_CONSTANT      -0.5939666       1.0079825      -0.5892628       0.5556850\n",
      "Staten Island_Households (HH) Count       0.0025918       0.0011298       2.2940021       0.0217904\n",
      "Staten Island_HH 0-10k       1.2438057       1.8373080       0.6769718       0.4984238\n",
      "Staten Island_HH 10k-15k       1.3612859       1.8274457       0.7449118       0.4563250\n",
      "Staten Island_HH 15k-25k       1.1629649       1.8390964       0.6323567       0.5271538\n",
      "Staten Island_HH 25k-35k       1.3732035       1.8224766       0.7534821       0.4511603\n",
      "Staten Island_HH 35k-50k       1.1868089       1.8236568       0.6507852       0.5151851\n",
      "Staten Island_HH 50k-75k       1.2283535       1.8279330       0.6719905       0.5015898\n",
      "Staten Island_HH 75k-100k       1.2569727       1.8365112       0.6844351       0.4937005\n",
      "Staten Island_HH 100k-150k       1.2641176       1.8365770       0.6883009       0.4912633\n",
      "Staten Island_HH 150k-200k       1.2990552       1.8162860       0.7152261       0.4744693\n",
      "Staten Island_HH 200k-UP       1.2798335       1.8302797       0.6992557       0.4843923\n",
      "Staten Island_PopulationCount      -0.0008865       0.0003829      -2.3151208       0.0206063\n",
      " Staten Island_White      -1.2333668       1.8299818      -0.6739776       0.5003255\n",
      " Staten Island_Black      -1.2089091       1.8355050      -0.6586248       0.5101367\n",
      "Staten Island_Native      -0.4795383       1.8488172      -0.2593757       0.7953453\n",
      " Staten Island_Asian      -1.2367823       1.8241625      -0.6780001       0.4977717\n",
      "Staten Island_PacificIslander      -3.0229071       2.0161906      -1.4993162       0.1337916\n",
      " Staten Island_Other      -1.2098242       1.8453063      -0.6556224       0.5120671\n",
      "Staten Island_TwoOrMore      -1.2130951       1.8361385      -0.6606773       0.5088193\n",
      "Staten Island_num_providers      -0.1390330       0.3492632      -0.3980752       0.6905747\n",
      "Staten Island_num_rooftop_cells      -0.0187777       0.0495345      -0.3790823       0.7046268\n",
      "_Global_W_MobileBroadbandDependence_Pct       0.6220058       0.0707155       8.7958844       0.0000000\n",
      "------------------------------------------------------------------------------------\n",
      "Instrumented: _Global_W_MobileBroadbandDependence_Pct\n",
      "Instruments: Bronx_W_Asian, Bronx_W_Black, Bronx_W_HH 0-10k, Bronx_W_HH\n",
      "             100k-150k, Bronx_W_HH 10k-15k, Bronx_W_HH 150k-200k, Bronx_W_HH\n",
      "             15k-25k, Bronx_W_HH 200k-UP, Bronx_W_HH 25k-35k, Bronx_W_HH\n",
      "             35k-50k, Bronx_W_HH 50k-75k, Bronx_W_HH 75k-100k,\n",
      "             Bronx_W_Households (HH) Count, Bronx_W_Native, Bronx_W_Other,\n",
      "             Bronx_W_PacificIslander, Bronx_W_PopulationCount,\n",
      "             Bronx_W_TwoOrMore, Bronx_W_White, Bronx_W_num_providers,\n",
      "             Bronx_W_num_rooftop_cells, Brooklyn_W_Asian, Brooklyn_W_Black,\n",
      "             Brooklyn_W_HH 0-10k, Brooklyn_W_HH 100k-150k, Brooklyn_W_HH\n",
      "             10k-15k, Brooklyn_W_HH 150k-200k, Brooklyn_W_HH 15k-25k,\n",
      "             Brooklyn_W_HH 200k-UP, Brooklyn_W_HH 25k-35k, Brooklyn_W_HH\n",
      "             35k-50k, Brooklyn_W_HH 50k-75k, Brooklyn_W_HH 75k-100k,\n",
      "             Brooklyn_W_Households (HH) Count, Brooklyn_W_Native,\n",
      "             Brooklyn_W_Other, Brooklyn_W_PacificIslander,\n",
      "             Brooklyn_W_PopulationCount, Brooklyn_W_TwoOrMore,\n",
      "             Brooklyn_W_White, Brooklyn_W_num_providers,\n",
      "             Brooklyn_W_num_rooftop_cells, Manhattan_W_Asian,\n",
      "             Manhattan_W_Black, Manhattan_W_HH 0-10k, Manhattan_W_HH\n",
      "             100k-150k, Manhattan_W_HH 10k-15k, Manhattan_W_HH 150k-200k,\n",
      "             Manhattan_W_HH 15k-25k, Manhattan_W_HH 200k-UP, Manhattan_W_HH\n",
      "             25k-35k, Manhattan_W_HH 35k-50k, Manhattan_W_HH 50k-75k,\n",
      "             Manhattan_W_HH 75k-100k, Manhattan_W_Households (HH) Count,\n",
      "             Manhattan_W_Native, Manhattan_W_Other,\n",
      "             Manhattan_W_PacificIslander, Manhattan_W_PopulationCount,\n",
      "             Manhattan_W_TwoOrMore, Manhattan_W_White,\n",
      "             Manhattan_W_num_providers, Manhattan_W_num_rooftop_cells,\n",
      "             Queens_W_Asian, Queens_W_Black, Queens_W_HH 0-10k, Queens_W_HH\n",
      "             100k-150k, Queens_W_HH 10k-15k, Queens_W_HH 150k-200k,\n",
      "             Queens_W_HH 15k-25k, Queens_W_HH 200k-UP, Queens_W_HH 25k-35k,\n",
      "             Queens_W_HH 35k-50k, Queens_W_HH 50k-75k, Queens_W_HH 75k-100k,\n",
      "             Queens_W_Households (HH) Count, Queens_W_Native,\n",
      "             Queens_W_Other, Queens_W_PacificIslander,\n",
      "             Queens_W_PopulationCount, Queens_W_TwoOrMore, Queens_W_White,\n",
      "             Queens_W_num_providers, Queens_W_num_rooftop_cells, Staten\n",
      "             Island_W_Asian, Staten Island_W_Black, Staten Island_W_HH\n",
      "             0-10k, Staten Island_W_HH 100k-150k, Staten Island_W_HH\n",
      "             10k-15k, Staten Island_W_HH 150k-200k, Staten Island_W_HH\n",
      "             15k-25k, Staten Island_W_HH 200k-UP, Staten Island_W_HH\n",
      "             25k-35k, Staten Island_W_HH 35k-50k, Staten Island_W_HH\n",
      "             50k-75k, Staten Island_W_HH 75k-100k, Staten\n",
      "             Island_W_Households (HH) Count, Staten Island_W_Native, Staten\n",
      "             Island_W_Other, Staten Island_W_PacificIslander, Staten\n",
      "             Island_W_PopulationCount, Staten Island_W_TwoOrMore, Staten\n",
      "             Island_W_White, Staten Island_W_num_providers, Staten\n",
      "             Island_W_num_rooftop_cells\n",
      "Regimes variable: unknown\n",
      "\n",
      "DIAGNOSTICS FOR SPATIAL DEPENDENCE\n",
      "TEST                           MI/DF       VALUE           PROB\n",
      "Anselin-Kelejian Test             1          11.056          0.0009\n",
      "\n",
      "REGIMES DIAGNOSTICS - CHOW TEST\n",
      "                 VARIABLE        DF        VALUE           PROB\n",
      "                 CONSTANT         4          12.193           0.0160\n",
      "                    Asian         4           5.715           0.2215\n",
      "                    Black         4           4.985           0.2888\n",
      "                 HH 0-10k         4           4.976           0.2898\n",
      "             HH 100k-150k         4           9.423           0.0514\n",
      "               HH 10k-15k         4           8.440           0.0767\n",
      "             HH 150k-200k         4           6.361           0.1738\n",
      "               HH 15k-25k         4           5.595           0.2315\n",
      "               HH 200k-UP         4           9.382           0.0522\n",
      "               HH 25k-35k         4           8.051           0.0897\n",
      "               HH 35k-50k         4           3.290           0.5106\n",
      "               HH 50k-75k         4           7.734           0.1018\n",
      "              HH 75k-100k         4           1.803           0.7719\n",
      "    Households (HH) Count         4          10.505           0.0327\n",
      "                   Native         4           2.040           0.7285\n",
      "                    Other         4           2.040           0.7284\n",
      "          PacificIslander         4           2.840           0.5850\n",
      "          PopulationCount         4           9.623           0.0473\n",
      "                TwoOrMore         4           3.533           0.4729\n",
      "                    White         4           8.901           0.0636\n",
      "            num_providers         4           2.993           0.5589\n",
      "        num_rooftop_cells         4           2.376           0.6669\n",
      "              Global test        88         330.686           0.0000\n",
      "================================ END OF REPORT =====================================\n"
     ]
    }
   ],
   "source": [
    "y = all_vars.loc[:,[\"Mobile_Dependent\"]]\n",
    "indep_vars = all_vars[['Households (HH) Count',\n",
    "       'HH 0-10k', 'HH 10k-15k', 'HH 15k-25k', 'HH 25k-35k', 'HH 35k-50k',\n",
    "       'HH 50k-75k', 'HH 75k-100k', 'HH 100k-150k', 'HH 150k-200k',\n",
    "       'HH 200k-UP', 'PopulationCount', 'White', 'Black', 'Native', 'Asian',\n",
    "       'PacificIslander', 'Other', 'TwoOrMore', 'num_providers', \"num_rooftop_cells\"]]\n",
    "m3 = spreg.GM_Lag_Regimes(y = np.array(y), x = np.array(indep_vars), regimes = regimes,\n",
    "                  w = weights,spat_diag = True,\n",
    "                  name_x = indep_vars.columns.tolist(), name_y = \"MobileBroadbandDependence_Pct\")\n",
    "print(m3.summary)"
   ]
  },
  {
   "cell_type": "code",
   "execution_count": 212,
   "metadata": {},
   "outputs": [],
   "source": [
    "m3_2 = spreg.GM_Lag(y = np.array(y), x = np.array(indep_vars),\n",
    "                  w = weights,spat_diag = True,\n",
    "                  name_x = indep_vars.columns.tolist(), name_y = \"MobileBroadbandDependence_Pct\")"
   ]
  },
  {
   "cell_type": "code",
   "execution_count": 213,
   "metadata": {},
   "outputs": [
    {
     "data": {
      "text/plain": [
       "F.E. Lag    13.820372\n",
       "Lag         16.375567\n",
       "dtype: float64"
      ]
     },
     "execution_count": 213,
     "metadata": {},
     "output_type": "execute_result"
    }
   ],
   "source": [
    "mses = pd.Series({'F.E. Lag': mse(y, m3.predy.flatten()),\n",
    "                 'Lag': mse(y, m3_2.predy.flatten())})\n",
    "mses.sort_values()"
   ]
  },
  {
   "cell_type": "markdown",
   "metadata": {},
   "source": [
    "The same effect can be seen here. Taking into spatial fixed effects have a significant impact on reducing MSEs."
   ]
  }
 ],
 "metadata": {
  "kernelspec": {
   "display_name": "Python 3 (Spyder)",
   "language": "python3",
   "name": "python3"
  },
  "language_info": {
   "codemirror_mode": {
    "name": "ipython",
    "version": 3
   },
   "file_extension": ".py",
   "mimetype": "text/x-python",
   "name": "python",
   "nbconvert_exporter": "python",
   "pygments_lexer": "ipython3",
   "version": "3.7.6"
  },
  "varInspector": {
   "cols": {
    "lenName": 16,
    "lenType": 16,
    "lenVar": 40
   },
   "kernels_config": {
    "python": {
     "delete_cmd_postfix": "",
     "delete_cmd_prefix": "del ",
     "library": "var_list.py",
     "varRefreshCmd": "print(var_dic_list())"
    },
    "r": {
     "delete_cmd_postfix": ") ",
     "delete_cmd_prefix": "rm(",
     "library": "var_list.r",
     "varRefreshCmd": "cat(var_dic_list()) "
    }
   },
   "types_to_exclude": [
    "module",
    "function",
    "builtin_function_or_method",
    "instance",
    "_Feature"
   ],
   "window_display": false
  }
 },
 "nbformat": 4,
 "nbformat_minor": 4
}
