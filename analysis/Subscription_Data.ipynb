{
 "cells": [
  {
   "cell_type": "code",
   "execution_count": 28,
   "metadata": {},
   "outputs": [],
   "source": [
    "import seaborn as sns\n",
    "import matplotlib.pyplot as plt\n",
    "import numpy as np\n",
    "import pandas as pd\n",
    "import geopandas as gpd\n",
    "import os as os\n",
    "import libpysal as ps\n",
    "import spreg"
   ]
  },
  {
   "cell_type": "code",
   "execution_count": 6,
   "metadata": {},
   "outputs": [],
   "source": [
    "# Adjust directory accordingly\n",
    "os.chdir('C:\\\\Users\\\\wesch\\\\OneDrive\\\\20 Spring Summer Urban Science Intensive\\\\nyconnect\\\\data')"
   ]
  },
  {
   "cell_type": "code",
   "execution_count": 113,
   "metadata": {},
   "outputs": [],
   "source": [
    "# load datasets\n",
    "subscription = pd.read_csv(\"./ACS_Internet_Subscription/subscription_acs_2018.csv\")\n",
    "income = pd.read_csv(\"./Demographics/Income/household_income_acs2018.csv\")\n",
    "race = pd.read_csv(\"./Demographics/Basic Count/tract_race_acs2018.csv\")\n",
    "census_tracts = gpd.read_file(\"./2010_Census_Tracts/geo_export_0ca1f0a1-f242-497a-9f86-91b88fc18647.shp\")"
   ]
  },
  {
   "cell_type": "markdown",
   "metadata": {},
   "source": [
    "[Methodology](http://darribas.org/gds_scipy16/ipynb_md/08_spatial_regression.html) adapted from terrific notebooks published by Sergio Rey and Arribas and their PySal [notebooks](http://pysal.org/notebooks/lib/libpysal/weights.html) page."
   ]
  },
  {
   "cell_type": "code",
   "execution_count": 114,
   "metadata": {},
   "outputs": [],
   "source": [
    "# data cleaning \n",
    "## Calculating race as a percentage\n",
    "race = race.assign(White = lambda x: x[\"White\"]/x[\"Total\"]*100,\n",
    "                  Black = lambda x: x[\"Black\"]/x[\"Total\"]*100,\n",
    "                  Native = lambda x: x[\"Native\"]/x[\"Total\"]*100,\n",
    "                  Asian = lambda x: x[\"Asian\"]/x[\"Total\"]*100,\n",
    "                  PacificIslander = lambda x: x[\"Pacific Islander\"]/x[\"Total\"]*100,\n",
    "                  Other = lambda x: x[\"Other\"]/x[\"Total\"]*100,\n",
    "                  TwoOrMore = lambda x: x[\"Two or More\"]/x[\"Total\"]*100)\n",
    "race = race[['city', 'tract', 'county', \"BoroCTLbl\", 'Total', 'White', 'Black', 'Native', 'Asian', \n",
    "                'PacificIslander', 'Other','TwoOrMore']]\n",
    "## Calculating subscription as a percentage\n",
    "subscription = subscription.assign(Mobile_Dependent = lambda x: x[\"Mobile_Dependent\"]/x[\"Total\"]*100,\n",
    "                                   Wired_Broadband = lambda x: x[\"Wired_Broadband\"]/x[\"Total\"]*100,\n",
    "                                   No_Internet = lambda x: x[\"No_Internet\"]/x[\"Total\"]*100)\n",
    "## filling NAs\n",
    "race = race.fillna(0)\n",
    "income = income.fillna(0)\n",
    "subscription = subscription.fillna(0)\n",
    "## returning centroid of each census tract\n",
    "census_tracts = census_tracts.assign(longitude = lambda x: x.geometry.centroid.x,\n",
    "                                    latitude = lambda x: x.geometry.centroid.y)\n",
    "## creating a new dataframe with all the variables \n",
    "indep_vars = income.merge(race, on = [\"city\", \"tract\", \"county\", \"BoroCTLbl\"])\n",
    "indep_vars = indep_vars.merge(subscription, on = [\"city\", \"tract\", \"county\", \"BoroCTLbl\"])\n",
    "indep_vars = indep_vars.merge(census_tracts.loc[:, [\"BoroCTLbl\", \"longitude\", \"latitude\", \"geometry\"]], on = [\"BoroCTLbl\"])\n",
    "## rename variables \n",
    "renamed_cols = {\n",
    "    'Total_x': 'PopulationCount',\n",
    "    'Total_y' : 'HouseholdCount'}\n",
    "indep_vars.rename(columns=renamed_cols, inplace=True)\n"
   ]
  },
  {
   "cell_type": "code",
   "execution_count": 107,
   "metadata": {},
   "outputs": [],
   "source": [
    "indep_vars = indep_vars.dropna()"
   ]
  },
  {
   "cell_type": "code",
   "execution_count": 119,
   "metadata": {},
   "outputs": [
    {
     "name": "stdout",
     "output_type": "stream",
     "text": [
      "('WARNING: ', 338, ' is an island (no neighbors)')\n",
      "('WARNING: ', 1099, ' is an island (no neighbors)')\n",
      "('WARNING: ', 2164, ' is an island (no neighbors)')\n"
     ]
    },
    {
     "name": "stderr",
     "output_type": "stream",
     "text": [
      "c:\\users\\wesch\\appdata\\local\\programs\\python\\python37\\lib\\site-packages\\libpysal\\weights\\weights.py:167: UserWarning: The weights matrix is not fully connected: \n",
      " There are 6 disconnected components.\n",
      " There are 3 islands with ids: 338, 1099, 2164.\n",
      "  warnings.warn(message)\n"
     ]
    }
   ],
   "source": [
    "from libpysal.weights import Queen, KNN\n",
    "weights = Queen.from_dataframe(indep_vars)\n",
    "weights.transform = \"r\""
   ]
  },
  {
   "cell_type": "code",
   "execution_count": 116,
   "metadata": {},
   "outputs": [],
   "source": [
    "indep_vars2 = indep_vars[['Households (HH) Count',\n",
    "       'HH 0-10k', 'HH 10k-15k', 'HH 15k-25k', 'HH 25k-35k', 'HH 35k-50k',\n",
    "       'HH 50k-75k', 'HH 75k-100k', 'HH 100k-150k', 'HH 150k-200k',\n",
    "       'HH 200k-UP', 'PopulationCount', 'White', 'Black', 'Native', 'Asian',\n",
    "       'PacificIslander', 'Other', 'TwoOrMore']]"
   ]
  },
  {
   "cell_type": "code",
   "execution_count": 120,
   "metadata": {},
   "outputs": [],
   "source": [
    "m1 = spreg.OLS(y = np.array(indep_vars.loc[:,[\"Wired_Broadband\"]]), \n",
    "               x = np.array(indep_vars2),\n",
    "              w = weights,\n",
    "              spat_diag = True)"
   ]
  },
  {
   "cell_type": "code",
   "execution_count": 121,
   "metadata": {},
   "outputs": [
    {
     "name": "stdout",
     "output_type": "stream",
     "text": [
      "REGRESSION\n",
      "----------\n",
      "SUMMARY OF OUTPUT: ORDINARY LEAST SQUARES\n",
      "-----------------------------------------\n",
      "Data set            :     unknown\n",
      "Weights matrix      :     unknown\n",
      "Dependent Variable  :     dep_var                Number of Observations:        2165\n",
      "Mean dependent var  :     68.6500                Number of Variables   :          20\n",
      "S.D. dependent var  :     16.2861                Degrees of Freedom    :        2145\n",
      "R-squared           :      0.7615\n",
      "Adjusted R-squared  :      0.7594\n",
      "Sum squared residual:  136910.445                F-statistic           :    360.3947\n",
      "Sigma-square        :      63.828                Prob(F-statistic)     :           0\n",
      "S.E. of regression  :       7.989                Log likelihood        :   -7561.028\n",
      "Sigma-square ML     :      63.238                Akaike info criterion :   15162.057\n",
      "S.E of regression ML:      7.9522                Schwarz criterion     :   15275.660\n",
      "\n",
      "------------------------------------------------------------------------------------\n",
      "            Variable     Coefficient       Std.Error     t-Statistic     Probability\n",
      "------------------------------------------------------------------------------------\n",
      "            CONSTANT      -0.0000000       1.2327642      -0.0000000       1.0000000\n",
      "               var_1       0.0036279       0.0005092       7.1250452       0.0000000\n",
      "               var_2       0.4917891       0.0435070      11.3036886       0.0000000\n",
      "               var_3       0.0989625       0.0490501       2.0175783       0.0437595\n",
      "               var_4       0.2296259       0.0461634       4.9741977       0.0000007\n",
      "               var_5       0.4976671       0.0530824       9.3753764       0.0000000\n",
      "               var_6       0.6916546       0.0461789      14.9777030       0.0000000\n",
      "               var_7       0.7928700       0.0400226      19.8105563       0.0000000\n",
      "               var_8       0.7752280       0.0465647      16.6484190       0.0000000\n",
      "               var_9       0.8676515       0.0401478      21.6114516       0.0000000\n",
      "              var_10       0.8817859       0.0537496      16.4054501       0.0000000\n",
      "              var_11       0.9339623       0.0369499      25.2764151       0.0000000\n",
      "              var_12      -0.0013305       0.0002246      -5.9227887       0.0000000\n",
      "              var_13       0.0271606       0.0312588       0.8688968       0.3850008\n",
      "              var_14      -0.0013531       0.0312504      -0.0432993       0.9654669\n",
      "              var_15      -0.0695146       0.1478166      -0.4702760       0.6382057\n",
      "              var_16       0.0794413       0.0328217       2.4203889       0.0155865\n",
      "              var_17       0.4623586       0.5779821       0.7999531       0.4238265\n",
      "              var_18       0.0689506       0.0341044       2.0217535       0.0433258\n",
      "              var_19       0.1269808       0.0671373       1.8913596       0.0587110\n",
      "------------------------------------------------------------------------------------\n",
      "\n",
      "REGRESSION DIAGNOSTICS\n",
      "MULTICOLLINEARITY CONDITION NUMBER           50.692\n",
      "\n",
      "TEST ON NORMALITY OF ERRORS\n",
      "TEST                             DF        VALUE           PROB\n",
      "Jarque-Bera                       2         652.084           0.0000\n",
      "\n",
      "DIAGNOSTICS FOR HETEROSKEDASTICITY\n",
      "RANDOM COEFFICIENTS\n",
      "TEST                             DF        VALUE           PROB\n",
      "Breusch-Pagan test               19         565.672           0.0000\n",
      "Koenker-Bassett test             19         278.011           0.0000\n",
      "\n",
      "DIAGNOSTICS FOR SPATIAL DEPENDENCE\n",
      "TEST                           MI/DF       VALUE           PROB\n",
      "Lagrange Multiplier (lag)         1         271.667           0.0000\n",
      "Robust LM (lag)                   1           1.081           0.2986\n",
      "Lagrange Multiplier (error)       1         874.876           0.0000\n",
      "Robust LM (error)                 1         604.289           0.0000\n",
      "Lagrange Multiplier (SARMA)       2         875.956           0.0000\n",
      "\n",
      "================================ END OF REPORT =====================================\n"
     ]
    }
   ],
   "source": [
    "print(m1.summary)"
   ]
  },
  {
   "cell_type": "code",
   "execution_count": 122,
   "metadata": {},
   "outputs": [
    {
     "data": {
      "text/plain": [
       "Index(['Households (HH) Count', 'HH 0-10k', 'HH 10k-15k', 'HH 15k-25k',\n",
       "       'HH 25k-35k', 'HH 35k-50k', 'HH 50k-75k', 'HH 75k-100k', 'HH 100k-150k',\n",
       "       'HH 150k-200k', 'HH 200k-UP', 'PopulationCount', 'White', 'Black',\n",
       "       'Native', 'Asian', 'PacificIslander', 'Other', 'TwoOrMore'],\n",
       "      dtype='object')"
      ]
     },
     "execution_count": 122,
     "metadata": {},
     "output_type": "execute_result"
    }
   ],
   "source": [
    "indep_vars2.columns"
   ]
  },
  {
   "cell_type": "markdown",
   "metadata": {},
   "source": [
    "From the above, we can conclude that race is not statistically significant in testing for wired broadband subscription. Income is a much better predictor.  \n",
    "At the bottom of the summary object are four statistics for spatial dependence. I tested whether the residuals of the regression are spatially correlated, against the null of a random distribution over a designated space, NYC's census tracts in this case. Since, the tests reject the null hypothesis that error terms are randomly distributed in space, the normal OLS assumption of randomness is violated. Thus, OLS on its own is not particularly well suited. "
   ]
  },
  {
   "cell_type": "code",
   "execution_count": 123,
   "metadata": {},
   "outputs": [],
   "source": [
    "m2 = spreg.GM_Lag(y = np.array(indep_vars.loc[:,[\"Wired_Broadband\"]]), \n",
    "                  x = np.array(indep_vars2),\n",
    "                  w = weights,\n",
    "                  spat_diag = True,\n",
    "                 name_x = indep_vars2.columns.tolist(),\n",
    "                 name_y = \"WiredBroadband_Pct\")"
   ]
  },
  {
   "cell_type": "code",
   "execution_count": 124,
   "metadata": {},
   "outputs": [
    {
     "name": "stdout",
     "output_type": "stream",
     "text": [
      "REGRESSION\n",
      "----------\n",
      "SUMMARY OF OUTPUT: SPATIAL TWO STAGE LEAST SQUARES\n",
      "--------------------------------------------------\n",
      "Data set            :     unknown\n",
      "Weights matrix      :     unknown\n",
      "Dependent Variable  :WiredBroadband_Pct                Number of Observations:        2165\n",
      "Mean dependent var  :     68.6500                Number of Variables   :          21\n",
      "S.D. dependent var  :     16.2861                Degrees of Freedom    :        2144\n",
      "Pseudo R-squared    :      0.7705\n",
      "Spatial Pseudo R-squared:  0.7614\n",
      "\n",
      "------------------------------------------------------------------------------------\n",
      "            Variable     Coefficient       Std.Error     z-Statistic     Probability\n",
      "------------------------------------------------------------------------------------\n",
      "            CONSTANT      -3.4318433       1.8892969      -1.8164658       0.0692989\n",
      "Households (HH) Count       0.0033963       0.0005068       6.7015949       0.0000000\n",
      "            HH 0-10k       0.4917318       0.0424810      11.5753381       0.0000000\n",
      "          HH 10k-15k       0.1067239       0.0480065       2.2231105       0.0262084\n",
      "          HH 15k-25k       0.2360383       0.0451568       5.2270795       0.0000002\n",
      "          HH 25k-35k       0.5070794       0.0519842       9.7544861       0.0000000\n",
      "          HH 35k-50k       0.6945462       0.0451067      15.3978652       0.0000000\n",
      "          HH 50k-75k       0.7905891       0.0390908      20.2244437       0.0000000\n",
      "         HH 75k-100k       0.7691113       0.0455406      16.8884752       0.0000000\n",
      "        HH 100k-150k       0.8608740       0.0393064      21.9016501       0.0000000\n",
      "        HH 150k-200k       0.8724492       0.0526314      16.5765982       0.0000000\n",
      "          HH 200k-UP       0.9247657       0.0362890      25.4833434       0.0000000\n",
      "     PopulationCount      -0.0012452       0.0002223      -5.6009467       0.0000000\n",
      "               White       0.0270858       0.0305216       0.8874309       0.3748469\n",
      "               Black      -0.0002915       0.0305168      -0.0095513       0.9923793\n",
      "              Native      -0.0715754       0.1443335      -0.4959030       0.6199629\n",
      "               Asian       0.0759760       0.0320814       2.3682209       0.0178739\n",
      "     PacificIslander       0.4006035       0.5649602       0.7090827       0.4782731\n",
      "               Other       0.0719736       0.0333248       2.1597588       0.0307913\n",
      "           TwoOrMore       0.1163534       0.0657090       1.7707375       0.0766044\n",
      "W_WiredBroadband_Pct       0.0527710       0.0223920       2.3566854       0.0184389\n",
      "------------------------------------------------------------------------------------\n",
      "Instrumented: W_WiredBroadband_Pct\n",
      "Instruments: W_Asian, W_Black, W_HH 0-10k, W_HH 100k-150k, W_HH 10k-15k,\n",
      "             W_HH 150k-200k, W_HH 15k-25k, W_HH 200k-UP, W_HH 25k-35k, W_HH\n",
      "             35k-50k, W_HH 50k-75k, W_HH 75k-100k, W_Households (HH) Count,\n",
      "             W_Native, W_Other, W_PacificIslander, W_PopulationCount,\n",
      "             W_TwoOrMore, W_White\n",
      "\n",
      "DIAGNOSTICS FOR SPATIAL DEPENDENCE\n",
      "TEST                           MI/DF       VALUE           PROB\n",
      "Anselin-Kelejian Test             1         233.223          0.0000\n",
      "================================ END OF REPORT =====================================\n"
     ]
    }
   ],
   "source": [
    "print(m2.summary)"
   ]
  },
  {
   "cell_type": "markdown",
   "metadata": {},
   "source": [
    "The results are roughly similar, and we can see that the spatially lagged variable is significant. What this means is that there is some form of spatial interaction between census tracts that causes some autocorrelation in wired broadband subscription. Even if we are not entirely convinced that a regression model can predict the rates of household broadband subscription, we want to see whether a lagged model can reduce MSE."
   ]
  },
  {
   "cell_type": "code",
   "execution_count": 125,
   "metadata": {},
   "outputs": [],
   "source": [
    "y = indep_vars.loc[:,[\"Wired_Broadband\"]]"
   ]
  },
  {
   "cell_type": "code",
   "execution_count": 126,
   "metadata": {},
   "outputs": [
    {
     "data": {
      "text/plain": [
       "Lag    60.852850\n",
       "OLS    63.238081\n",
       "dtype: float64"
      ]
     },
     "execution_count": 126,
     "metadata": {},
     "output_type": "execute_result"
    }
   ],
   "source": [
    "from sklearn.metrics import mean_squared_error as mse\n",
    "\n",
    "mses = pd.Series({'OLS': mse(y, m1.predy.flatten()),\n",
    "                'Lag': mse(y, m2.predy.flatten()),\n",
    "                    })\n",
    "mses.sort_values()"
   ]
  }
 ],
 "metadata": {
  "kernelspec": {
   "display_name": "Python 3 (Spyder)",
   "language": "python3",
   "name": "python3"
  },
  "language_info": {
   "codemirror_mode": {
    "name": "ipython",
    "version": 3
   },
   "file_extension": ".py",
   "mimetype": "text/x-python",
   "name": "python",
   "nbconvert_exporter": "python",
   "pygments_lexer": "ipython3",
   "version": "3.7.6"
  },
  "varInspector": {
   "cols": {
    "lenName": 16,
    "lenType": 16,
    "lenVar": 40
   },
   "kernels_config": {
    "python": {
     "delete_cmd_postfix": "",
     "delete_cmd_prefix": "del ",
     "library": "var_list.py",
     "varRefreshCmd": "print(var_dic_list())"
    },
    "r": {
     "delete_cmd_postfix": ") ",
     "delete_cmd_prefix": "rm(",
     "library": "var_list.r",
     "varRefreshCmd": "cat(var_dic_list()) "
    }
   },
   "types_to_exclude": [
    "module",
    "function",
    "builtin_function_or_method",
    "instance",
    "_Feature"
   ],
   "window_display": false
  }
 },
 "nbformat": 4,
 "nbformat_minor": 4
}
