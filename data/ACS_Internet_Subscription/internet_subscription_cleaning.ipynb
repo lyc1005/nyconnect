{
 "cells": [
  {
   "cell_type": "code",
   "execution_count": 1,
   "metadata": {},
   "outputs": [],
   "source": [
    "# settingup modules\n",
    "import pandas as pd\n",
    "import numpy as np"
   ]
  },
  {
   "cell_type": "code",
   "execution_count": 6,
   "metadata": {},
   "outputs": [],
   "source": [
    "# importing data\n",
    "subscription_tracts = pd.read_csv(\"ACSDT5Y2018.B28002_data_with_overlays_2020-04-08T122811.csv\", skiprows=[0])"
   ]
  },
  {
   "cell_type": "code",
   "execution_count": 7,
   "metadata": {},
   "outputs": [],
   "source": [
    "# some data cleaning\n",
    "## splitting Geographic Area Name\n",
    "subscription_tracts = subscription_tracts.join(pd.DataFrame(subscription_tracts[\"Geographic Area Name\"].str.split(\",\").tolist(),\n",
    "                                                           columns = [\"tract\", \"county\", \"city\"]))\n",
    "## Replacing County Name\n",
    "subscription_tracts[\"county\"].replace({\" Bronx County\": \"Bronx\",\n",
    "                                       \" Queens County\": \"Queens\",\n",
    "                                       \" Kings County\": \"Brooklyn\",\n",
    "                                       \" Richmond County\": \"Staten Island\",\n",
    "                                       \" New York County\": \"Manhattan\"}, \n",
    "                                      inplace = True)\n",
    "## Subscripting for Census Tract Number\n",
    "subscription_tracts[\"tract\"] = subscription_tracts[\"tract\"].apply(lambda x: x[13:])\n",
    "## Adding Boro Census Tract Label for NTA Use later\n",
    "subscription_tracts[\"BoroCTLbl\"] = subscription_tracts[\"county\"] + \" \" + subscription_tracts[\"tract\"].astype(str)"
   ]
  },
  {
   "cell_type": "code",
   "execution_count": 8,
   "metadata": {},
   "outputs": [],
   "source": [
    "## Renaming desired original Census Bureau columns\n",
    "renamed_cols = {\n",
    "    'Estimate!!Total': 'Total',\n",
    "    'Estimate!!Total!!With an Internet subscription!!Cellular data plan!!Cellular data plan with no other type of Internet subscription' : 'Mobile_Dependent',\n",
    "     'Estimate!!Total!!With an Internet subscription!!Broadband such as cable, fiber optic or DSL': 'Wired_Broadband',\n",
    "     'Estimate!!Total!!No Internet access': 'No_Internet'\n",
    "}\n",
    "## ID desired columns\n",
    "cols_to_keep = ['city', 'tract', 'county', \"BoroCTLbl\", 'Total', \n",
    "                'Mobile_Dependent', 'Wired_Broadband', 'No_Internet']\n",
    "## Rename columns\n",
    "subscription_tracts.rename(columns=renamed_cols, inplace=True)\n",
    "## Select columns and create new df\n",
    "subscription_tracts_export = subscription_tracts[cols_to_keep]"
   ]
  },
  {
   "cell_type": "code",
   "execution_count": 9,
   "metadata": {},
   "outputs": [],
   "source": [
    "# Export as CSV\n",
    "subscription_tracts_export.to_csv(\"subscription_acs_2018.csv\", index = False)"
   ]
  }
 ],
 "metadata": {
  "kernelspec": {
   "display_name": "Python 3 (Spyder)",
   "language": "python3",
   "name": "python3"
  },
  "language_info": {
   "codemirror_mode": {
    "name": "ipython",
    "version": 3
   },
   "file_extension": ".py",
   "mimetype": "text/x-python",
   "name": "python",
   "nbconvert_exporter": "python",
   "pygments_lexer": "ipython3",
   "version": "3.7.6"
  },
  "varInspector": {
   "cols": {
    "lenName": 16,
    "lenType": 16,
    "lenVar": 40
   },
   "kernels_config": {
    "python": {
     "delete_cmd_postfix": "",
     "delete_cmd_prefix": "del ",
     "library": "var_list.py",
     "varRefreshCmd": "print(var_dic_list())"
    },
    "r": {
     "delete_cmd_postfix": ") ",
     "delete_cmd_prefix": "rm(",
     "library": "var_list.r",
     "varRefreshCmd": "cat(var_dic_list()) "
    }
   },
   "types_to_exclude": [
    "module",
    "function",
    "builtin_function_or_method",
    "instance",
    "_Feature"
   ],
   "window_display": false
  }
 },
 "nbformat": 4,
 "nbformat_minor": 4
}
